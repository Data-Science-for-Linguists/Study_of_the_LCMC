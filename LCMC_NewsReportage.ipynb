{
 "cells": [
  {
   "cell_type": "code",
   "execution_count": 1,
   "metadata": {},
   "outputs": [
    {
     "name": "stdout",
     "output_type": "stream",
     "text": [
      "Pretty printing has been turned OFF\n"
     ]
    }
   ],
   "source": [
    "import bs4 as bs\n",
    "import pandas as pd\n",
    "from IPython.core.interactiveshell import InteractiveShell\n",
    "%pprint\n",
    "InteractiveShell.ast_node_interactivity = 'all'\n",
    "lcmc_char = \"/Users/ktlan/Documents/Data_Science/project_KyleLandin/2474/Lcmc/data/character/\"\n",
    "lcmc_pinyin = \"/Users/ktlan/Documents/Data_Science/project_KyleLandin/2474/Lcmc/data/pinyin/\"\n",
    "#These map to the Character data folder and the Pinyin data folder"
   ]
  },
  {
   "cell_type": "markdown",
   "metadata": {},
   "source": [
    "# News Reportage"
   ]
  },
  {
   "cell_type": "code",
   "execution_count": 2,
   "metadata": {
    "collapsed": true
   },
   "outputs": [],
   "source": [
    "newsrep_char = (lcmc_char + 'LCMC_A.xml')\n",
    "newsrep_infile = open(newsrep_char, 'r', encoding='utf8')\n",
    "newsrep_contents = newsrep_infile.read()\n",
    "newsrep_soup = bs.BeautifulSoup(newsrep_contents, 'xml')"
   ]
  },
  {
   "cell_type": "code",
   "execution_count": 3,
   "metadata": {
    "collapsed": true
   },
   "outputs": [],
   "source": [
    "# Getting the characters and parts of speech\n",
    "# Only need the pos from one set of the data since it will be the same in the pinyin data that we will be merging with\n",
    "nrchar = [w_tag.text for w_tag in newsrep_soup.find_all('w')]\n",
    "nrpos = [w_tag.get('POS') for w_tag in newsrep_soup.find_all('w')]"
   ]
  },
  {
   "cell_type": "code",
   "execution_count": 4,
   "metadata": {
    "collapsed": true
   },
   "outputs": [],
   "source": [
    "# Changing the tags in the pos list to their meaning for clarity\n",
    "for n,i in enumerate(nrpos):\n",
    "    if i=='a':\n",
    "        nrpos[n]='adj'\n",
    "    if i=='ad':\n",
    "        nrpos[n]='adj as adv'\n",
    "    if i=='ag':\n",
    "        nrpos[n]='adj morpheme'\n",
    "    if i=='an':\n",
    "        nrpos[n]='adj with nominal func'\n",
    "    if i=='b':\n",
    "        nrpos[n]='non-predicate adj'\n",
    "    if i=='bg':\n",
    "        nrpos[n]='non-predicate adj morpheme'\n",
    "    if i=='c':\n",
    "        nrpos[n]='conjunction'\n",
    "    if i=='cg':\n",
    "        nrpos[n]='conjunction morpheme'\n",
    "    if i=='d':\n",
    "        nrpos[n]='adv'\n",
    "    if i=='dg':\n",
    "        nrpos[n]='adv morpheme'\n",
    "    if i=='e':\n",
    "        nrpos[n]='interjection'\n",
    "    if i=='ew':\n",
    "        nrpos[n]='sentential punctuation'\n",
    "    if i=='f':\n",
    "        nrpos[n]='directional locality'\n",
    "    if i=='fg':\n",
    "        nrpos[n]='locality morpheme'\n",
    "    if i=='g':\n",
    "        nrpos[n]='morpheme'\n",
    "    if i=='h':\n",
    "        nrpos[n]='prefix'\n",
    "    if i=='i':\n",
    "        nrpos[n]='idiom'\n",
    "    if i=='j':\n",
    "        nrpos[n]='abbreviation'\n",
    "    if i=='k':\n",
    "        nrpos[n]='suffix'\n",
    "    if i=='l':\n",
    "        nrpos[n]='fixed expressions'\n",
    "    if i=='m':\n",
    "        nrpos[n]='numeral'\n",
    "    if i=='mg':\n",
    "        nrpos[n]='numeric morpheme'\n",
    "    if i=='n':\n",
    "        nrpos[n]='common noun'\n",
    "    if i=='ng':\n",
    "        nrpos[n]='noun morpheme'\n",
    "    if i=='nr':\n",
    "        nrpos[n]='personal name'\n",
    "    if i=='ns':\n",
    "        nrpos[n]='place name'\n",
    "    if i=='nt':\n",
    "        nrpos[n]='organization name'\n",
    "    if i=='nx':\n",
    "        nrpos[n]='nominal character string'\n",
    "    if i=='nz':\n",
    "        nrpos[n]='other proper noun'\n",
    "    if i=='o':\n",
    "        nrpos[n]='onomatopoeia'\n",
    "    if i=='p':\n",
    "        nrpos[n]='preposition'\n",
    "    if i=='pg':\n",
    "        nrpos[n]='preposition morpheme'\n",
    "    if i=='q':\n",
    "        nrpos[n]='classifier'\n",
    "    if i=='qg':\n",
    "        nrpos[n]='classifier morpheme'\n",
    "    if i=='r':\n",
    "        nrpos[n]='pronoun'\n",
    "    if i=='rg':\n",
    "        nrpos[n]='pronoun morpheme'\n",
    "    if i=='s':\n",
    "        nrpos[n]='space word'\n",
    "    if i=='t':\n",
    "        nrpos[n]='time word'\n",
    "    if i=='tg':\n",
    "        nrpos[n]='time word morpheme'\n",
    "    if i=='u':\n",
    "        nrpos[n]='auxiliary'\n",
    "    if i=='v':\n",
    "        nrpos[n]='verb'\n",
    "    if i=='vd':\n",
    "        nrpos[n]='verb as adv'\n",
    "    if i=='vg':\n",
    "        nrpos[n]='verb morpheme'\n",
    "    if i=='vn':\n",
    "        nrpos[n]='verb with nominal function'\n",
    "    if i=='w':\n",
    "        nrpos[n]='symbol and non-sentential punctuation'\n",
    "    if i=='x':\n",
    "        nrpos[n]='unclassified items'\n",
    "    if i=='y':\n",
    "        nrpos[n]='modal particle'\n",
    "    if i=='yg':\n",
    "        nrpos[n]='modal particle morpheme'\n",
    "    if i=='z':\n",
    "        nrpos[n]='descriptive'\n",
    "    if i=='zg':\n",
    "        nrpos[n]='descriptive morpheme'\n",
    "    "
   ]
  },
  {
   "cell_type": "code",
   "execution_count": 5,
   "metadata": {},
   "outputs": [
    {
     "data": {
      "text/plain": [
       "['大', '墙', '内外', '北京市', '监狱', '纪实', '三', '田', '珍颖', '或许']"
      ]
     },
     "execution_count": 5,
     "metadata": {},
     "output_type": "execute_result"
    },
    {
     "data": {
      "text/plain": [
       "['adj', 'common noun', 'directional locality', 'place name', 'common noun', 'common noun', 'numeral', 'personal name', 'personal name', 'adv']"
      ]
     },
     "execution_count": 5,
     "metadata": {},
     "output_type": "execute_result"
    },
    {
     "data": {
      "text/plain": [
       "73518"
      ]
     },
     "execution_count": 5,
     "metadata": {},
     "output_type": "execute_result"
    },
    {
     "data": {
      "text/plain": [
       "73518"
      ]
     },
     "execution_count": 5,
     "metadata": {},
     "output_type": "execute_result"
    }
   ],
   "source": [
    "nrchar[:10]\n",
    "nrpos[:10]\n",
    "len(nrchar)\n",
    "len(nrpos)"
   ]
  },
  {
   "cell_type": "code",
   "execution_count": 6,
   "metadata": {
    "collapsed": true
   },
   "outputs": [],
   "source": [
    "# Getting the pinyin from the pinyin xml file\n",
    "newsrep_pin = (lcmc_pinyin + 'LCMC_A.xml')\n",
    "newsrep_pin_infile = open(newsrep_pin, 'r', encoding='utf8')\n",
    "newsrep_pin_contents = newsrep_pin_infile.read()\n",
    "newsrep_pin_soup = bs.BeautifulSoup(newsrep_pin_contents, 'xml')"
   ]
  },
  {
   "cell_type": "code",
   "execution_count": 7,
   "metadata": {},
   "outputs": [
    {
     "data": {
      "text/plain": [
       "['da4', 'qiang2', 'nei4wai4', 'bei3jing1shi4', 'jian1yu4', 'ji4shi2', 'san1', 'tian2', 'zhen1ying3', 'huo4xu3']"
      ]
     },
     "execution_count": 7,
     "metadata": {},
     "output_type": "execute_result"
    }
   ],
   "source": [
    "nrpinyin = [w_tag.text for w_tag in newsrep_pin_soup.find_all('w')]\n",
    "nrpinyin[:10]"
   ]
  },
  {
   "cell_type": "code",
   "execution_count": 8,
   "metadata": {},
   "outputs": [
    {
     "data": {
      "text/plain": [
       "73518"
      ]
     },
     "execution_count": 8,
     "metadata": {},
     "output_type": "execute_result"
    },
    {
     "data": {
      "text/plain": [
       "[('大', 'da4', 'adj'), ('墙', 'qiang2', 'common noun'), ('内外', 'nei4wai4', 'directional locality'), ('北京市', 'bei3jing1shi4', 'place name'), ('监狱', 'jian1yu4', 'common noun')]"
      ]
     },
     "execution_count": 8,
     "metadata": {},
     "output_type": "execute_result"
    }
   ],
   "source": [
    "# Combining the character, pinyin, and pos lists into one\n",
    "nr_tokens = list(zip(nrchar, nrpinyin, nrpos))\n",
    "len(nr_tokens)\n",
    "nr_tokens[:5]\n",
    "# Total number of words is 73518"
   ]
  },
  {
   "cell_type": "code",
   "execution_count": 9,
   "metadata": {},
   "outputs": [
    {
     "data": {
      "text/plain": [
       "14804"
      ]
     },
     "execution_count": 9,
     "metadata": {},
     "output_type": "execute_result"
    }
   ],
   "source": [
    "nr_unique = set(nr_tokens)\n",
    "len(nr_unique)\n",
    "# Finding number of unique words\n",
    "# Unique words are ones that have unique characters, pinyin, and pos\n",
    "# Chinese characters can change pinyin/pronunciation based on pos or sentence pattern/situation"
   ]
  },
  {
   "cell_type": "code",
   "execution_count": 10,
   "metadata": {
    "collapsed": true
   },
   "outputs": [],
   "source": [
    "from collections import Counter\n",
    "\n",
    "freq = Counter(nr_tokens)"
   ]
  },
  {
   "cell_type": "code",
   "execution_count": 11,
   "metadata": {},
   "outputs": [
    {
     "data": {
      "text/plain": [
       "[(('的', 'de5', 'auxiliary'), 4088), (('了', 'le5', 'auxiliary'), 1090), (('在', 'zai4', 'preposition'), 936), (('一', 'yi1', 'numeral'), 771), (('是', 'shi4', 'verb'), 760), (('和', 'he2', 'conjunction'), 593), (('他', 'ta1', 'pronoun'), 529), (('说', 'shuo1', 'verb'), 366), (('着', 'zhao2', 'auxiliary'), 352), (('这', 'zhe4', 'pronoun'), 343), (('不', 'bu4', 'adv'), 342), (('有', 'you3', 'verb'), 342), (('个', 'ge4', 'classifier'), 316), (('上', 'shang4', 'directional locality'), 313), (('我', 'wo3', 'pronoun'), 312), (('地', 'di4', 'auxiliary'), 281), (('人', 'ren2', 'common noun'), 272), (('也', 'ye3', 'adv'), 257), (('我们', 'wo3men5', 'pronoun'), 257), (('到', 'dao4', 'verb'), 242)]"
      ]
     },
     "execution_count": 11,
     "metadata": {},
     "output_type": "execute_result"
    }
   ],
   "source": [
    "freq.most_common(20)"
   ]
  },
  {
   "cell_type": "code",
   "execution_count": 12,
   "metadata": {},
   "outputs": [
    {
     "data": {
      "text/plain": [
       "[('砰', 'peng1', 'onomatopoeia'), ('嘿嘿', 'hei1hei1', 'onomatopoeia'), ('喃喃', 'nan2nan2', 'onomatopoeia'), ('当', 'dang1', 'onomatopoeia'), ('哒', 'da2', 'onomatopoeia'), ('隆隆', 'long2long2', 'onomatopoeia'), ('哇哇', 'wa1wa1', 'onomatopoeia'), ('刷', 'shua1', 'onomatopoeia'), ('刷刷', 'shua1shua1', 'onomatopoeia'), ('咣', 'le4', 'onomatopoeia'), ('呀呀', 'ya1ya1', 'onomatopoeia'), ('腾', 'teng2', 'onomatopoeia'), ('哧', 'chi4', 'onomatopoeia'), ('哈哈', 'ha1ha1', 'onomatopoeia'), ('喀嚓', 'ka1ca1', 'onomatopoeia'), ('哇', 'wa1', 'onomatopoeia'), ('吱', 'zi1', 'onomatopoeia'), ('铃', 'ling2', 'onomatopoeia'), ('簌簌', 'su4su4', 'onomatopoeia'), ('啪', 'pai1', 'onomatopoeia'), ('扑', 'pu1', 'onomatopoeia')]"
      ]
     },
     "execution_count": 12,
     "metadata": {},
     "output_type": "execute_result"
    }
   ],
   "source": [
    "# Let's look at some interesting parts of speech\n",
    "onomatopoeia = [(w,p,pos) for (w,p,pos) in nr_unique if pos =='onomatopoeia']\n",
    "onomatopoeia"
   ]
  },
  {
   "cell_type": "code",
   "execution_count": 13,
   "metadata": {},
   "outputs": [
    {
     "data": {
      "text/plain": [
       "386"
      ]
     },
     "execution_count": 13,
     "metadata": {},
     "output_type": "execute_result"
    },
    {
     "data": {
      "text/plain": [
       "[('身无分文', 'shen1wu2fen1wen2', 'idiom'), ('告老还乡', 'gao4lao3huan2xiang1', 'idiom'), ('紧锣密鼓', 'jin3luo2mi4gu3', 'idiom'), ('政通人和', 'zheng4tong1ren2he2', 'idiom'), ('奔走相告', 'ben1zou3xiang1gao4', 'idiom'), ('情同手足', 'qing2tong2shou3zu2', 'idiom'), ('急不可待', 'ji2bu4ke3dai4', 'idiom'), ('燃眉之急', 'ran2mei2zhi1ji2', 'idiom'), ('天昏地暗', 'tian1hun1di4an4', 'idiom'), ('马到成功', 'ma3dao4cheng2gong1', 'idiom')]"
      ]
     },
     "execution_count": 13,
     "metadata": {},
     "output_type": "execute_result"
    }
   ],
   "source": [
    "idiom = [(w,p,pos) for (w,p,pos) in nr_unique if pos == 'idiom']\n",
    "len(idiom)\n",
    "idiom[:10]"
   ]
  },
  {
   "cell_type": "code",
   "execution_count": null,
   "metadata": {
    "collapsed": true
   },
   "outputs": [],
   "source": []
  }
 ],
 "metadata": {
  "kernelspec": {
   "display_name": "Python 3",
   "language": "python",
   "name": "python3"
  },
  "language_info": {
   "codemirror_mode": {
    "name": "ipython",
    "version": 3
   },
   "file_extension": ".py",
   "mimetype": "text/x-python",
   "name": "python",
   "nbconvert_exporter": "python",
   "pygments_lexer": "ipython3",
   "version": "3.6.1"
  }
 },
 "nbformat": 4,
 "nbformat_minor": 2
}
