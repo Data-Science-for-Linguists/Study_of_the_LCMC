{
 "cells": [
  {
   "cell_type": "markdown",
   "metadata": {},
   "source": [
    "Kyle Landin\n",
    "ktl14@pitt.edu"
   ]
  },
  {
   "cell_type": "markdown",
   "metadata": {},
   "source": [
    "# Data and Analysis of the Lancaster Corpus of Mandarin Chinese\n",
    "This code is designed to make the LCMC easier to read by converting it from an XML format\n",
    "### Table of Contents\n",
    "- [News Reportage Data](#news-reportage-data)\n",
    "- [News Editorial Data](#news-editorial-data)\n",
    "- [News Review Data](#news-review-data)\n",
    "- [Religion Data](#religion-data)\n",
    "- [Skills Trades and Hobbies Data](#skills-trades-and-hobbies-data)\n",
    "- [Popular Lore Data](#popular-lore-data)\n",
    "- [Biography and Essay Data](#biography-and-essay-data)\n",
    "- [Miscellaneous Reports and Official Documents Data](#miscellaneous-reports-and-official-documents-data)\n",
    "- [Science Academic Prose Data](#science-academic-prose-data)\n",
    "- [General Fiction Data](#general-fiction-data)\n",
    "- [Mystery and Detective Fiction Data](#mystery-and-detective-fiction-data)\n",
    "- [Science Fiction Data](#science-fiction-data)\n",
    "- [Adventure and Martial Arts Fiction Data](#adventure-and-martial-arts-fiction-data)\n",
    "- [Romantic Fiction Data](#romantic-fiction-data)\n",
    "- [Humor Data](#humor-data)\n",
    "- [Compiled Data](#compiled-data)\n",
    "- [Data Collection](#data-collection)\n",
    "    - [Parts of Speech](#parts-of-speech)\n",
    "    - [Formal vs Informal](#formal-vs-informal)\n",
    "    - [Looking at Pronouns](#looking-at-pronouns)"
   ]
  },
  {
   "cell_type": "code",
   "execution_count": 1,
   "metadata": {},
   "outputs": [
    {
     "name": "stdout",
     "output_type": "stream",
     "text": [
      "Pretty printing has been turned OFF\n"
     ]
    }
   ],
   "source": [
    "import bs4 as bs\n",
    "import pandas as pd\n",
    "from IPython.core.interactiveshell import InteractiveShell\n",
    "%pprint\n",
    "InteractiveShell.ast_node_interactivity = 'all'\n",
    "lcmc_char = \"/Users/ktlan/Documents/Data_Science/project_KyleLandin/2474/Lcmc/data/character/\"\n",
    "lcmc_pinyin = \"/Users/ktlan/Documents/Data_Science/project_KyleLandin/2474/Lcmc/data/pinyin/\"\n",
    "#These map to the Character data folder and the Pinyin data folder"
   ]
  },
  {
   "cell_type": "markdown",
   "metadata": {},
   "source": [
    "## News Reportage Data"
   ]
  },
  {
   "cell_type": "code",
   "execution_count": 2,
   "metadata": {
    "collapsed": true
   },
   "outputs": [],
   "source": [
    "newsrep_char = (lcmc_char + 'LCMC_A.xml')\n",
    "newsrep_infile = open(newsrep_char, 'r', encoding='utf8')\n",
    "newsrep_contents = newsrep_infile.read()\n",
    "newsrep_soup = bs.BeautifulSoup(newsrep_contents, 'xml')\n",
    "# Getting the characters and parts of speech\n",
    "# Only need the pos from one set of the data since it will be the same in the pinyin data that we will be merging with\n",
    "nrchar = [w_tag.text for w_tag in newsrep_soup.find_all('w')]\n",
    "nrpos = [w_tag.get('POS') for w_tag in newsrep_soup.find_all('w')]\n",
    "# Replacing the tags with their part of speech meanings\n",
    "tag_dict = {'a': 'adj', 'ad': 'adj as adv', 'ag': 'adj morpheme', 'an': 'adj with nominal func', 'b': 'non-predicate adj', 'bg': 'non-predicate adj morpheme', 'c': 'conjunction', 'cg': 'conjunction morpheme', 'd': 'adv', 'dg': 'adv morpheme', 'e': 'interjection', 'ew': 'sentential punctuation', 'f': 'directional locality', 'fg': 'locality morpheme', 'g': 'morpheme', 'h': 'prefix', 'i': 'idiom', 'j': 'abbreviation', 'k': 'suffix', 'l': 'fixed expressions', 'm': 'numeral', 'mg': 'numeric morpheme', 'n': 'common noun', 'ng': 'noun morpheme', 'nr': 'personal name', 'ns': 'place name', 'nt': 'organization name', 'nx': 'nominal character string', 'nz': 'other proper noun', 'o': 'onomatopoeia', 'p': 'preposition', 'pg': 'preposition morpheme', 'q': 'classifier', 'qg': 'classifier morpheme', 'r': 'pronoun', 'rg': 'pronoun morpheme', 's': 'space word', 't': 'time word', 'tg': 'time word morpheme', 'u': 'auxiliary', 'v': 'verb', 'vd': 'verb as adv', 'vg': 'verb morpheme', 'vn': 'verb with nominal function', 'w': 'symbol and non-sentential punctuation', 'x': 'unclassified items', 'y': 'modal particle', 'yg': 'modal particle morpheme', 'z': 'descriptive', 'zg': 'descriptive morpheme'}\n",
    "nrpos2 = [tag_dict[tag] for tag in nrpos]\n",
    "nrpos = nrpos2\n",
    "# Getting the pinyin from the pinyin xml file\n",
    "newsrep_pin = (lcmc_pinyin + 'LCMC_A.xml')\n",
    "newsrep_pin_infile = open(newsrep_pin, 'r', encoding='utf8')\n",
    "newsrep_pin_contents = newsrep_pin_infile.read()\n",
    "newsrep_pin_soup = bs.BeautifulSoup(newsrep_pin_contents, 'xml')\n",
    "# Pinyin into a list\n",
    "nrpinyin = [w_tag.text for w_tag in newsrep_pin_soup.find_all('w')]\n",
    "# Combining the character, pinyin, and pos lists into one\n",
    "nr_tokens = list(zip(nrchar, nrpinyin, nrpos))\n",
    "nr_unique = set(nr_tokens)"
   ]
  },
  {
   "cell_type": "markdown",
   "metadata": {},
   "source": [
    "## News Editorial Data"
   ]
  },
  {
   "cell_type": "code",
   "execution_count": 3,
   "metadata": {},
   "outputs": [
    {
     "data": {
      "text/plain": [
       "[('缓解', 'huan3jie3', 'verb'), ('南北', 'nan2bei3', 'directional locality'), ('矛盾', 'mao2dun4', 'adj with nominal func'), ('的', 'de5', 'auxiliary'), ('出路', 'chu1lu4', 'common noun')]"
      ]
     },
     "execution_count": 3,
     "metadata": {},
     "output_type": "execute_result"
    }
   ],
   "source": [
    "newsedit_char = (lcmc_char + 'LCMC_B.xml')\n",
    "newsedit_infile = open(newsedit_char, 'r', encoding='utf8')\n",
    "newsedit_contents = newsedit_infile.read()\n",
    "newsedit_soup = bs.BeautifulSoup(newsedit_contents, 'xml')\n",
    "\n",
    "nechar = [w_tag.text for w_tag in newsedit_soup.find_all('w')]\n",
    "nepos = [w_tag.get('POS') for w_tag in newsedit_soup.find_all('w')]\n",
    "\n",
    "nepos2 = [tag_dict[tag] for tag in nepos]\n",
    "nepos = nepos2\n",
    "\n",
    "newsedit_pin = (lcmc_pinyin + 'LCMC_B.xml')\n",
    "newsedit_pin_infile = open(newsedit_pin, 'r', encoding='utf8')\n",
    "newsedit_pin_contents = newsedit_pin_infile.read()\n",
    "newsedit_pin_soup = bs.BeautifulSoup(newsedit_pin_contents, 'xml')\n",
    "\n",
    "nepinyin = [w_tag.text for w_tag in newsedit_pin_soup.find_all('w')]\n",
    "\n",
    "ne_tokens = list(zip(nechar, nepinyin, nepos))\n",
    "ne_unique = set(ne_tokens)\n",
    "\n",
    "ne_tokens[:5]"
   ]
  },
  {
   "cell_type": "markdown",
   "metadata": {},
   "source": [
    "## News Review Data"
   ]
  },
  {
   "cell_type": "code",
   "execution_count": 4,
   "metadata": {},
   "outputs": [
    {
     "data": {
      "text/plain": [
       "[('德克勒克', 'de2ke4le4ke4', 'personal name'), ('讲话', 'jiang3hua4', 'common noun'), ('初', 'chu1', 'adv morpheme'), ('析', 'xi1', 'verb morpheme'), ('新华社', 'xin1hua2she4', 'organization name')]"
      ]
     },
     "execution_count": 4,
     "metadata": {},
     "output_type": "execute_result"
    }
   ],
   "source": [
    "newsrev_char = (lcmc_char + 'LCMC_C.xml')\n",
    "newsrev_infile = open(newsrev_char, 'r', encoding='utf8')\n",
    "newsrev_contents = newsrev_infile.read()\n",
    "newsrev_soup = bs.BeautifulSoup(newsrev_contents, 'xml')\n",
    "\n",
    "nrvchar = [w_tag.text for w_tag in newsrev_soup.find_all('w')]\n",
    "nrvpos = [w_tag.get('POS') for w_tag in newsrev_soup.find_all('w')]\n",
    "\n",
    "nrvpos2 = [tag_dict[tag] for tag in nrvpos]\n",
    "nrvpos = nrvpos2\n",
    "\n",
    "newsrev_pin = (lcmc_pinyin + 'LCMC_C.xml')\n",
    "newsrev_pin_infile = open(newsrev_pin, 'r', encoding='utf8')\n",
    "newsrev_pin_contents = newsrev_pin_infile.read()\n",
    "newsrev_pin_soup = bs.BeautifulSoup(newsrev_pin_contents, 'xml')\n",
    "\n",
    "nrvpinyin = [w_tag.text for w_tag in newsrev_pin_soup.find_all('w')]\n",
    "\n",
    "nrv_tokens = list(zip(nrvchar, nrvpinyin, nrvpos))\n",
    "nrv_unique = set(nrv_tokens)\n",
    "\n",
    "nrv_tokens[:5]"
   ]
  },
  {
   "cell_type": "markdown",
   "metadata": {},
   "source": [
    "## Religion Data"
   ]
  },
  {
   "cell_type": "code",
   "execution_count": 5,
   "metadata": {},
   "outputs": [
    {
     "data": {
      "text/plain": [
       "[('一', 'yi1', 'numeral'), ('如何', 'ru2he2', 'pronoun'), ('理解', 'li3jie3', 'verb'), ('佛教', 'fo2jiao4', 'other proper noun'), ('对于', 'dui4yu2', 'preposition')]"
      ]
     },
     "execution_count": 5,
     "metadata": {},
     "output_type": "execute_result"
    }
   ],
   "source": [
    "rel_char = (lcmc_char + 'LCMC_D.xml')\n",
    "rel_infile = open(rel_char, 'r', encoding='utf8')\n",
    "rel_contents = rel_infile.read()\n",
    "rel_soup = bs.BeautifulSoup(rel_contents, 'xml')\n",
    "\n",
    "relchar = [w_tag.text for w_tag in rel_soup.find_all('w')]\n",
    "relpos = [w_tag.get('POS') for w_tag in rel_soup.find_all('w')]\n",
    "\n",
    "# New dictionary to account for a misspelling in the xml for a tag. This fixes the problem with 'n '.\n",
    "rel_dict = {'n ': 'common noun', 'a': 'adj', 'ad': 'adj as adv', 'ag': 'adj morpheme', 'an': 'adj with nominal func', 'b': 'non-predicate adj', 'bg': 'non-predicate adj morpheme', 'c': 'conjunction', 'cg': 'conjunction morpheme', 'd': 'adv', 'dg': 'adv morpheme', 'e': 'interjection', 'ew': 'sentential punctuation', 'f': 'directional locality', 'fg': 'locality morpheme', 'g': 'morpheme', 'h': 'prefix', 'i': 'idiom', 'j': 'abbreviation', 'k': 'suffix', 'l': 'fixed expressions', 'm': 'numeral', 'mg': 'numeric morpheme', 'n': 'common noun', 'ng': 'noun morpheme', 'nr': 'personal name', 'ns': 'place name', 'nt': 'organization name', 'nx': 'nominal character string', 'nz': 'other proper noun', 'o': 'onomatopoeia', 'p': 'preposition', 'pg': 'preposition morpheme', 'q': 'classifier', 'qg': 'classifier morpheme', 'r': 'pronoun', 'rg': 'pronoun morpheme', 's': 'space word', 't': 'time word', 'tg': 'time word morpheme', 'u': 'auxiliary', 'v': 'verb', 'vd': 'verb as adv', 'vg': 'verb morpheme', 'vn': 'verb with nominal function', 'w': 'symbol and non-sentential punctuation', 'x': 'unclassified items', 'y': 'modal particle', 'yg': 'modal particle morpheme', 'z': 'descriptive', 'zg': 'descriptive morpheme'}\n",
    "\n",
    "relpos2 = [rel_dict[tag] for tag in relpos]\n",
    "relpos = relpos2\n",
    "\n",
    "rel_pin = (lcmc_pinyin + 'LCMC_D.xml')\n",
    "rel_pin_infile = open(rel_pin, 'r', encoding='utf8')\n",
    "rel_pin_contents = rel_pin_infile.read()\n",
    "rel_pin_soup = bs.BeautifulSoup(rel_pin_contents, 'xml')\n",
    "\n",
    "relpinyin = [w_tag.text for w_tag in rel_pin_soup.find_all('w')]\n",
    "\n",
    "rel_tokens = list(zip(relchar, relpinyin, relpos))\n",
    "rel_unique = set(rel_tokens)\n",
    "\n",
    "rel_tokens[:5]"
   ]
  },
  {
   "cell_type": "markdown",
   "metadata": {},
   "source": [
    "## Skills Trades and Hobbies Data"
   ]
  },
  {
   "cell_type": "code",
   "execution_count": 6,
   "metadata": {},
   "outputs": [
    {
     "data": {
      "text/plain": [
       "[('同事', 'tong2shi4', 'common noun'), ('相处', 'xiang1chu3', 'verb'), ('的', 'de5', 'auxiliary'), ('技巧', 'ji4qiao3', 'common noun'), ('同事', 'tong2shi4', 'common noun')]"
      ]
     },
     "execution_count": 6,
     "metadata": {},
     "output_type": "execute_result"
    }
   ],
   "source": [
    "sth_char = (lcmc_char + 'LCMC_E.xml')\n",
    "sth_infile = open(sth_char, 'r', encoding='utf8')\n",
    "sth_contents = sth_infile.read()\n",
    "sth_soup = bs.BeautifulSoup(sth_contents, 'xml')\n",
    "\n",
    "sthchar = [w_tag.text for w_tag in sth_soup.find_all('w')]\n",
    "sthpos = [w_tag.get('POS') for w_tag in sth_soup.find_all('w')]\n",
    "\n",
    "sthpos2 = [tag_dict[tag] for tag in sthpos]\n",
    "sthpos = sthpos2\n",
    "\n",
    "sth_pin = (lcmc_pinyin + 'LCMC_E.xml')\n",
    "sth_pin_infile = open(sth_pin, 'r', encoding='utf8')\n",
    "sth_pin_contents = sth_pin_infile.read()\n",
    "sth_pin_soup = bs.BeautifulSoup(sth_pin_contents, 'xml')\n",
    "\n",
    "sthpinyin = [w_tag.text for w_tag in sth_pin_soup.find_all('w')]\n",
    "\n",
    "sth_tokens = list(zip(sthchar, sthpinyin, sthpos))\n",
    "sth_unique = set(sth_tokens)\n",
    "\n",
    "sth_tokens[:5]"
   ]
  },
  {
   "cell_type": "markdown",
   "metadata": {},
   "source": [
    "## Popular Lore Data"
   ]
  },
  {
   "cell_type": "code",
   "execution_count": 7,
   "metadata": {},
   "outputs": [
    {
     "data": {
      "text/plain": [
       "[('在', 'zai4', 'preposition'), ('高速公路', 'gao1su4gong1lu4', 'common noun'), ('干道', 'gan1dao4', 'common noun'), ('上', 'shang4', 'directional locality'), ('行驶', 'xing2shi3', 'verb')]"
      ]
     },
     "execution_count": 7,
     "metadata": {},
     "output_type": "execute_result"
    }
   ],
   "source": [
    "poplore_char = (lcmc_char + 'LCMC_F.xml')\n",
    "poplore_infile = open(poplore_char, 'r', encoding='utf8')\n",
    "poplore_contents = poplore_infile.read()\n",
    "poplore_soup = bs.BeautifulSoup(poplore_contents, 'xml')\n",
    "\n",
    "poplorechar = [w_tag.text for w_tag in poplore_soup.find_all('w')]\n",
    "poplorepos = [w_tag.get('POS') for w_tag in poplore_soup.find_all('w')]\n",
    "\n",
    "poplorepos2 = [tag_dict[tag] for tag in poplorepos]\n",
    "poplorepos = poplorepos2\n",
    "\n",
    "poplore_pin = (lcmc_pinyin + 'LCMC_F.xml')\n",
    "poplore_pin_infile = open(poplore_pin, 'r', encoding='utf8')\n",
    "poplore_pin_contents = poplore_pin_infile.read()\n",
    "poplore_pin_soup = bs.BeautifulSoup(poplore_pin_contents, 'xml')\n",
    "\n",
    "poplorepinyin = [w_tag.text for w_tag in poplore_pin_soup.find_all('w')]\n",
    "\n",
    "poplore_tokens = list(zip(poplorechar, poplorepinyin, poplorepos))\n",
    "poplore_unique = set(poplore_tokens)\n",
    "\n",
    "poplore_tokens[:5]"
   ]
  },
  {
   "cell_type": "markdown",
   "metadata": {},
   "source": [
    "## Biography and Essay Data"
   ]
  },
  {
   "cell_type": "code",
   "execution_count": 8,
   "metadata": {},
   "outputs": [
    {
     "data": {
      "text/plain": [
       "[('第二', 'di4er4', 'numeral'), ('章', 'zhang1', 'classifier'), ('是', 'shi4', 'verb'), ('缪斯', 'miao4si1', 'personal name'), ('的', 'de5', 'auxiliary')]"
      ]
     },
     "execution_count": 8,
     "metadata": {},
     "output_type": "execute_result"
    }
   ],
   "source": [
    "bio_char = (lcmc_char + 'LCMC_G.xml')\n",
    "bio_infile = open(bio_char, 'r', encoding='utf8')\n",
    "bio_contents = bio_infile.read()\n",
    "bio_soup = bs.BeautifulSoup(bio_contents, 'xml')\n",
    "\n",
    "biochar = [w_tag.text for w_tag in bio_soup.find_all('w')]\n",
    "biopos = [w_tag.get('POS') for w_tag in bio_soup.find_all('w')]\n",
    "\n",
    "# New dictionary to account for a misspelling of the 'nr ' tag.\n",
    "bio_dict = {'nr ': 'noun morpheme', 'a': 'adj', 'ad': 'adj as adv', 'ag': 'adj morpheme', 'an': 'adj with nominal func', 'b': 'non-predicate adj', 'bg': 'non-predicate adj morpheme', 'c': 'conjunction', 'cg': 'conjunction morpheme', 'd': 'adv', 'dg': 'adv morpheme', 'e': 'interjection', 'ew': 'sentential punctuation', 'f': 'directional locality', 'fg': 'locality morpheme', 'g': 'morpheme', 'h': 'prefix', 'i': 'idiom', 'j': 'abbreviation', 'k': 'suffix', 'l': 'fixed expressions', 'm': 'numeral', 'mg': 'numeric morpheme', 'n': 'common noun', 'ng': 'noun morpheme', 'nr': 'personal name', 'ns': 'place name', 'nt': 'organization name', 'nx': 'nominal character string', 'nz': 'other proper noun', 'o': 'onomatopoeia', 'p': 'preposition', 'pg': 'preposition morpheme', 'q': 'classifier', 'qg': 'classifier morpheme', 'r': 'pronoun', 'rg': 'pronoun morpheme', 's': 'space word', 't': 'time word', 'tg': 'time word morpheme', 'u': 'auxiliary', 'v': 'verb', 'vd': 'verb as adv', 'vg': 'verb morpheme', 'vn': 'verb with nominal function', 'w': 'symbol and non-sentential punctuation', 'x': 'unclassified items', 'y': 'modal particle', 'yg': 'modal particle morpheme', 'z': 'descriptive', 'zg': 'descriptive morpheme'}\n",
    "\n",
    "biopos2 = [bio_dict[tag] for tag in biopos]\n",
    "biopos = biopos2\n",
    "\n",
    "bio_pin = (lcmc_pinyin + 'LCMC_G.xml')\n",
    "bio_pin_infile = open(bio_pin, 'r', encoding='utf8')\n",
    "bio_pin_contents = bio_pin_infile.read()\n",
    "bio_pin_soup = bs.BeautifulSoup(bio_pin_contents, 'xml')\n",
    "\n",
    "biopinyin = [w_tag.text for w_tag in bio_pin_soup.find_all('w')]\n",
    "\n",
    "bio_tokens = list(zip(biochar, biopinyin, biopos))\n",
    "bio_unique = set(bio_tokens)\n",
    "\n",
    "bio_tokens[:5]"
   ]
  },
  {
   "cell_type": "markdown",
   "metadata": {},
   "source": [
    "## Miscellaneous Reports and Official Documents Data"
   ]
  },
  {
   "cell_type": "code",
   "execution_count": 9,
   "metadata": {},
   "outputs": [
    {
     "data": {
      "text/plain": [
       "[('全国', 'quan2guo2', 'common noun'), ('人民', 'ren2min2', 'common noun'), ('代表大会', 'dai4biao3da4hui4', 'common noun'), ('常务', 'chang2wu4', 'non-predicate adj'), ('委员会', 'wei3yuan2hui4', 'common noun')]"
      ]
     },
     "execution_count": 9,
     "metadata": {},
     "output_type": "execute_result"
    }
   ],
   "source": [
    "misc_char = (lcmc_char + 'LCMC_H.xml')\n",
    "misc_infile = open(misc_char, 'r', encoding='utf8')\n",
    "misc_contents = misc_infile.read()\n",
    "misc_soup = bs.BeautifulSoup(misc_contents, 'xml')\n",
    "\n",
    "miscchar = [w_tag.text for w_tag in misc_soup.find_all('w')]\n",
    "miscpos = [w_tag.get('POS') for w_tag in misc_soup.find_all('w')]\n",
    "\n",
    "miscpos2 = [tag_dict[tag] for tag in miscpos]\n",
    "miscpos = miscpos2\n",
    "\n",
    "misc_pin = (lcmc_pinyin + 'LCMC_H.xml')\n",
    "misc_pin_infile = open(misc_pin, 'r', encoding='utf8')\n",
    "misc_pin_contents = misc_pin_infile.read()\n",
    "misc_pin_soup = bs.BeautifulSoup(misc_pin_contents, 'xml')\n",
    "\n",
    "miscpinyin = [w_tag.text for w_tag in misc_pin_soup.find_all('w')]\n",
    "\n",
    "misc_tokens = list(zip(miscchar, miscpinyin, miscpos))\n",
    "misc_unique = set(misc_tokens)\n",
    "\n",
    "misc_tokens[:5]"
   ]
  },
  {
   "cell_type": "markdown",
   "metadata": {},
   "source": [
    "## Science Academic Prose Data"
   ]
  },
  {
   "cell_type": "code",
   "execution_count": 10,
   "metadata": {},
   "outputs": [
    {
     "data": {
      "text/plain": [
       "[('第一', 'di4yi1', 'numeral'), ('节', 'jie2', 'classifier'), ('肥胖', 'fei2pang4', 'adj'), ('的', 'de5', 'auxiliary'), ('病因', 'bing4yin1', 'common noun')]"
      ]
     },
     "execution_count": 10,
     "metadata": {},
     "output_type": "execute_result"
    }
   ],
   "source": [
    "sci_char = (lcmc_char + 'LCMC_J.xml')\n",
    "sci_infile = open(sci_char, 'r', encoding='utf8')\n",
    "sci_contents = sci_infile.read()\n",
    "sci_soup = bs.BeautifulSoup(sci_contents, 'xml')\n",
    "\n",
    "scichar = [w_tag.text for w_tag in sci_soup.find_all('w')]\n",
    "scipos = [w_tag.get('POS') for w_tag in sci_soup.find_all('w')]\n",
    "\n",
    "scipos2 = [tag_dict[tag] for tag in scipos]\n",
    "scipos = scipos2\n",
    "\n",
    "sci_pin = (lcmc_pinyin + 'LCMC_J.xml')\n",
    "sci_pin_infile = open(sci_pin, 'r', encoding='utf8')\n",
    "sci_pin_contents = sci_pin_infile.read()\n",
    "sci_pin_soup = bs.BeautifulSoup(sci_pin_contents, 'xml')\n",
    "\n",
    "scipinyin = [w_tag.text for w_tag in sci_pin_soup.find_all('w')]\n",
    "\n",
    "sci_tokens = list(zip(scichar, scipinyin, scipos))\n",
    "sci_unique = set(sci_tokens)\n",
    "\n",
    "sci_tokens[:5]"
   ]
  },
  {
   "cell_type": "markdown",
   "metadata": {},
   "source": [
    "## General Fiction Data"
   ]
  },
  {
   "cell_type": "code",
   "execution_count": 11,
   "metadata": {},
   "outputs": [
    {
     "data": {
      "text/plain": [
       "[('什么', 'shen2me5', 'pronoun'), ('事情', 'shi4qing2', 'common noun'), ('都', 'dou1', 'adv'), ('是', 'shi4', 'verb'), ('说', 'shuo1', 'verb')]"
      ]
     },
     "execution_count": 11,
     "metadata": {},
     "output_type": "execute_result"
    }
   ],
   "source": [
    "gen_fic_char = (lcmc_char + 'LCMC_K.xml')\n",
    "gen_fic_infile = open(gen_fic_char, 'r', encoding='utf8')\n",
    "gen_fic_contents = gen_fic_infile.read()\n",
    "gen_fic_soup = bs.BeautifulSoup(gen_fic_contents, 'xml')\n",
    "\n",
    "gen_ficchar = [w_tag.text for w_tag in gen_fic_soup.find_all('w')]\n",
    "gen_ficpos = [w_tag.get('POS') for w_tag in gen_fic_soup.find_all('w')]\n",
    "\n",
    "# Had an error due to a misspelled tag. This dictionary fixes the problem with ' ng ' and 'n '.\n",
    "gen_fic_dict = {'n ': 'common noun', ' ng ': 'noun morpheme', 'a': 'adj', 'ad': 'adj as adv', 'ag': 'adj morpheme', 'an': 'adj with nominal func', 'b': 'non-predicate adj', 'bg': 'non-predicate adj morpheme', 'c': 'conjunction', 'cg': 'conjunction morpheme', 'd': 'adv', 'dg': 'adv morpheme', 'e': 'interjection', 'ew': 'sentential punctuation', 'f': 'directional locality', 'fg': 'locality morpheme', 'g': 'morpheme', 'h': 'prefix', 'i': 'idiom', 'j': 'abbreviation', 'k': 'suffix', 'l': 'fixed expressions', 'm': 'numeral', 'mg': 'numeric morpheme', 'n': 'common noun', 'ng': 'noun morpheme', 'nr': 'personal name', 'ns': 'place name', 'nt': 'organization name', 'nx': 'nominal character string', 'nz': 'other proper noun', 'o': 'onomatopoeia', 'p': 'preposition', 'pg': 'preposition morpheme', 'q': 'classifier', 'qg': 'classifier morpheme', 'r': 'pronoun', 'rg': 'pronoun morpheme', 's': 'space word', 't': 'time word', 'tg': 'time word morpheme', 'u': 'auxiliary', 'v': 'verb', 'vd': 'verb as adv', 'vg': 'verb morpheme', 'vn': 'verb with nominal function', 'w': 'symbol and non-sentential punctuation', 'x': 'unclassified items', 'y': 'modal particle', 'yg': 'modal particle morpheme', 'z': 'descriptive', 'zg': 'descriptive morpheme'}\n",
    "\n",
    "gen_ficpos2 = [gen_fic_dict[tag] for tag in gen_ficpos]\n",
    "gen_ficpos = gen_ficpos2\n",
    "\n",
    "gen_fic_pin = (lcmc_pinyin + 'LCMC_K.xml')\n",
    "gen_fic_pin_infile = open(gen_fic_pin, 'r', encoding='utf8')\n",
    "gen_fic_pin_contents = gen_fic_pin_infile.read()\n",
    "gen_fic_pin_soup = bs.BeautifulSoup(gen_fic_pin_contents, 'xml')\n",
    "\n",
    "gen_ficpinyin = [w_tag.text for w_tag in gen_fic_pin_soup.find_all('w')]\n",
    "\n",
    "gen_fic_tokens = list(zip(gen_ficchar, gen_ficpinyin, gen_ficpos))\n",
    "gen_fic_unique = set(gen_fic_tokens)\n",
    "\n",
    "gen_fic_tokens[:5]"
   ]
  },
  {
   "cell_type": "markdown",
   "metadata": {},
   "source": [
    "## Mystery and Detective Fiction Data"
   ]
  },
  {
   "cell_type": "code",
   "execution_count": 12,
   "metadata": {},
   "outputs": [
    {
     "data": {
      "text/plain": [
       "[('八', 'ba1', 'numeral'), ('致命', 'zhi4ming4', 'verb'), ('的', 'de5', 'auxiliary'), ('侥幸', 'jiao3xing4', 'adj'), ('心理', 'xin1li3', 'common noun')]"
      ]
     },
     "execution_count": 12,
     "metadata": {},
     "output_type": "execute_result"
    }
   ],
   "source": [
    "myst_char = (lcmc_char + 'LCMC_L.xml')\n",
    "myst_infile = open(myst_char, 'r', encoding='utf8')\n",
    "myst_contents = myst_infile.read()\n",
    "myst_soup = bs.BeautifulSoup(myst_contents, 'xml')\n",
    "\n",
    "mystchar = [w_tag.text for w_tag in myst_soup.find_all('w')]\n",
    "mystpos = [w_tag.get('POS') for w_tag in myst_soup.find_all('w')]\n",
    "\n",
    "# Had an error due to one misspelled tag in the xml. This dictionary fixes this specific problem with 'nr '.\n",
    "mystpos_dict = {'nr ': 'personal name', 'a': 'adj', 'ad': 'adj as adv', 'ag': 'adj morpheme', 'an': 'adj with nominal func', 'b': 'non-predicate adj', 'bg': 'non-predicate adj morpheme', 'c': 'conjunction', 'cg': 'conjunction morpheme', 'd': 'adv', 'dg': 'adv morpheme', 'e': 'interjection', 'ew': 'sentential punctuation', 'f': 'directional locality', 'fg': 'locality morpheme', 'g': 'morpheme', 'h': 'prefix', 'i': 'idiom', 'j': 'abbreviation', 'k': 'suffix', 'l': 'fixed expressions', 'm': 'numeral', 'mg': 'numeric morpheme', 'n': 'common noun', 'ng': 'noun morpheme', 'nr': 'personal name', 'ns': 'place name', 'nt': 'organization name', 'nx': 'nominal character string', 'nz': 'other proper noun', 'o': 'onomatopoeia', 'p': 'preposition', 'pg': 'preposition morpheme', 'q': 'classifier', 'qg': 'classifier morpheme', 'r': 'pronoun', 'rg': 'pronoun morpheme', 's': 'space word', 't': 'time word', 'tg': 'time word morpheme', 'u': 'auxiliary', 'v': 'verb', 'vd': 'verb as adv', 'vg': 'verb morpheme', 'vn': 'verb with nominal function', 'w': 'symbol and non-sentential punctuation', 'x': 'unclassified items', 'y': 'modal particle', 'yg': 'modal particle morpheme', 'z': 'descriptive', 'zg': 'descriptive morpheme'}\n",
    "\n",
    "mystpos2 = [mystpos_dict[tag] for tag in mystpos]\n",
    "mystpos = mystpos2\n",
    "\n",
    "myst_pin = (lcmc_pinyin + 'LCMC_L.xml')\n",
    "myst_pin_infile = open(myst_pin, 'r', encoding='utf8')\n",
    "myst_pin_contents = myst_pin_infile.read()\n",
    "myst_pin_soup = bs.BeautifulSoup(myst_pin_contents, 'xml')\n",
    "\n",
    "mystpinyin = [w_tag.text for w_tag in myst_pin_soup.find_all('w')]\n",
    "\n",
    "myst_tokens = list(zip(mystchar, mystpinyin, mystpos))\n",
    "myst_unique = set(myst_tokens)\n",
    "\n",
    "myst_tokens[:5]"
   ]
  },
  {
   "cell_type": "markdown",
   "metadata": {},
   "source": [
    "## Science Fiction Data"
   ]
  },
  {
   "cell_type": "code",
   "execution_count": 13,
   "metadata": {},
   "outputs": [
    {
     "data": {
      "text/plain": [
       "[('第五', 'di4wu3', 'numeral'), ('部', 'bu4', 'classifier'), ('预', 'yu4', 'adv'), ('知', 'zhi1', 'verb'), ('能力', 'neng2li4', 'common noun')]"
      ]
     },
     "execution_count": 13,
     "metadata": {},
     "output_type": "execute_result"
    }
   ],
   "source": [
    "sci_fic_char = (lcmc_char + 'LCMC_M.xml')\n",
    "sci_fic_infile = open(sci_fic_char, 'r', encoding='utf8')\n",
    "sci_fic_contents = sci_fic_infile.read()\n",
    "sci_fic_soup = bs.BeautifulSoup(sci_fic_contents, 'xml')\n",
    "\n",
    "sci_ficchar = [w_tag.text for w_tag in sci_fic_soup.find_all('w')]\n",
    "sci_ficpos = [w_tag.get('POS') for w_tag in sci_fic_soup.find_all('w')]\n",
    "\n",
    "sci_ficpos2 = [tag_dict[tag] for tag in sci_ficpos]\n",
    "sci_ficpos = sci_ficpos2\n",
    "\n",
    "sci_fic_pin = (lcmc_pinyin + 'LCMC_M.xml')\n",
    "sci_fic_pin_infile = open(sci_fic_pin, 'r', encoding='utf8')\n",
    "sci_fic_pin_contents = sci_fic_pin_infile.read()\n",
    "sci_fic_pin_soup = bs.BeautifulSoup(sci_fic_pin_contents, 'xml')\n",
    "\n",
    "sci_ficpinyin = [w_tag.text for w_tag in sci_fic_pin_soup.find_all('w')]\n",
    "\n",
    "sci_fic_tokens = list(zip(sci_ficchar, sci_ficpinyin, sci_ficpos))\n",
    "sci_fic_unique = set(sci_fic_tokens)\n",
    "\n",
    "sci_fic_tokens[:5]"
   ]
  },
  {
   "cell_type": "markdown",
   "metadata": {},
   "source": [
    "## Adventure and Martial Arts Fiction Data"
   ]
  },
  {
   "cell_type": "code",
   "execution_count": 14,
   "metadata": {},
   "outputs": [
    {
     "data": {
      "text/plain": [
       "[('云', 'yun2', 'common noun'), ('在', 'zai4', 'preposition'), ('天空', 'tian1kong1', 'common noun'), ('游荡', 'you2dang4', 'verb with nominal function'), ('它', 'ta1', 'pronoun')]"
      ]
     },
     "execution_count": 14,
     "metadata": {},
     "output_type": "execute_result"
    }
   ],
   "source": [
    "ama_fic_char = (lcmc_char + 'LCMC_N.xml')\n",
    "ama_fic_infile = open(ama_fic_char, 'r', encoding='utf8')\n",
    "ama_fic_contents = ama_fic_infile.read()\n",
    "ama_fic_soup = bs.BeautifulSoup(ama_fic_contents, 'xml')\n",
    "\n",
    "ama_ficchar = [w_tag.text for w_tag in ama_fic_soup.find_all('w')]\n",
    "ama_ficpos = [w_tag.get('POS') for w_tag in ama_fic_soup.find_all('w')]\n",
    "\n",
    "ama_ficpos2 = [tag_dict[tag] for tag in ama_ficpos]\n",
    "ama_ficpos = ama_ficpos2\n",
    "\n",
    "ama_fic_pin = (lcmc_pinyin + 'LCMC_N.xml')\n",
    "ama_fic_pin_infile = open(ama_fic_pin, 'r', encoding='utf8')\n",
    "ama_fic_pin_contents = ama_fic_pin_infile.read()\n",
    "ama_fic_pin_soup = bs.BeautifulSoup(ama_fic_pin_contents, 'xml')\n",
    "\n",
    "ama_ficpinyin = [w_tag.text for w_tag in ama_fic_pin_soup.find_all('w')]\n",
    "\n",
    "ama_fic_tokens = list(zip(ama_ficchar, ama_ficpinyin, ama_ficpos))\n",
    "ama_fic_unique = set(ama_fic_tokens)\n",
    "\n",
    "ama_fic_tokens[:5]"
   ]
  },
  {
   "cell_type": "markdown",
   "metadata": {},
   "source": [
    "## Romantic Fiction Data"
   ]
  },
  {
   "cell_type": "code",
   "execution_count": 15,
   "metadata": {},
   "outputs": [
    {
     "data": {
      "text/plain": [
       "[('萍', 'ping2', 'noun morpheme'), ('聚', 'ju4', 'verb'), ('特别', 'te4bie2', 'adv'), ('是', 'shi4', 'verb'), ('外面', 'wai4mian4', 'directional locality')]"
      ]
     },
     "execution_count": 15,
     "metadata": {},
     "output_type": "execute_result"
    }
   ],
   "source": [
    "rom_fic_char = (lcmc_char + 'LCMC_P.xml')\n",
    "rom_fic_infile = open(rom_fic_char, 'r', encoding='utf8')\n",
    "rom_fic_contents = rom_fic_infile.read()\n",
    "rom_fic_soup = bs.BeautifulSoup(rom_fic_contents, 'xml')\n",
    "\n",
    "rom_ficchar = [w_tag.text for w_tag in rom_fic_soup.find_all('w')]\n",
    "rom_ficpos = [w_tag.get('POS') for w_tag in rom_fic_soup.find_all('w')]\n",
    "\n",
    "rom_ficpos2 = [tag_dict[tag] for tag in rom_ficpos]\n",
    "rom_ficpos = rom_ficpos2\n",
    "\n",
    "rom_fic_pin = (lcmc_pinyin + 'LCMC_P.xml')\n",
    "rom_fic_pin_infile = open(rom_fic_pin, 'r', encoding='utf8')\n",
    "rom_fic_pin_contents = rom_fic_pin_infile.read()\n",
    "rom_fic_pin_soup = bs.BeautifulSoup(rom_fic_pin_contents, 'xml')\n",
    "\n",
    "rom_ficpinyin = [w_tag.text for w_tag in rom_fic_pin_soup.find_all('w')]\n",
    "\n",
    "rom_fic_tokens = list(zip(rom_ficchar, rom_ficpinyin, rom_ficpos))\n",
    "rom_fic_unique = set(rom_fic_tokens)\n",
    "\n",
    "rom_fic_tokens[:5]"
   ]
  },
  {
   "cell_type": "markdown",
   "metadata": {},
   "source": [
    "## Humor Data"
   ]
  },
  {
   "cell_type": "code",
   "execution_count": 16,
   "metadata": {},
   "outputs": [
    {
     "data": {
      "text/plain": [
       "[('排队', 'pai2dui4', 'verb'), ('打耳光', 'da3er3guang1', 'fixed expressions'), ('江湖', 'jiang1hu2', 'common noun'), ('医生', 'yi1sheng1', 'common noun'), ('卖', 'mai4', 'verb')]"
      ]
     },
     "execution_count": 16,
     "metadata": {},
     "output_type": "execute_result"
    }
   ],
   "source": [
    "humor_char = (lcmc_char + 'LCMC_R.xml')\n",
    "humor_infile = open(humor_char, 'r', encoding='utf8')\n",
    "humor_contents = humor_infile.read()\n",
    "humor_soup = bs.BeautifulSoup(humor_contents, 'xml')\n",
    "\n",
    "humorchar = [w_tag.text for w_tag in humor_soup.find_all('w')]\n",
    "humorpos = [w_tag.get('POS') for w_tag in humor_soup.find_all('w')]\n",
    "\n",
    "humorpos2 = [tag_dict[tag] for tag in humorpos]\n",
    "humorpos = humorpos2\n",
    "\n",
    "humor_pin = (lcmc_pinyin + 'LCMC_R.xml')\n",
    "humor_pin_infile = open(humor_pin, 'r', encoding='utf8')\n",
    "humor_pin_contents = humor_pin_infile.read()\n",
    "humor_pin_soup = bs.BeautifulSoup(humor_pin_contents, 'xml')\n",
    "\n",
    "humorpinyin = [w_tag.text for w_tag in humor_pin_soup.find_all('w')]\n",
    "\n",
    "humor_tokens = list(zip(humorchar, humorpinyin, humorpos))\n",
    "humor_unique = set(humor_tokens)\n",
    "\n",
    "humor_tokens[:5]"
   ]
  },
  {
   "cell_type": "markdown",
   "metadata": {},
   "source": [
    "## Compiled Data"
   ]
  },
  {
   "cell_type": "code",
   "execution_count": 17,
   "metadata": {},
   "outputs": [
    {
     "data": {
      "text/plain": [
       "839006"
      ]
     },
     "execution_count": 17,
     "metadata": {},
     "output_type": "execute_result"
    },
    {
     "data": {
      "text/plain": [
       "53376"
      ]
     },
     "execution_count": 17,
     "metadata": {},
     "output_type": "execute_result"
    }
   ],
   "source": [
    "# Combine all lists of data to allow for analysis of entire corpus\n",
    "Compiled_Data = nr_tokens + ne_tokens + nrv_tokens + rel_tokens + sth_tokens + poplore_tokens + bio_tokens + misc_tokens + sci_tokens + gen_fic_tokens + myst_tokens + sci_fic_tokens + ama_fic_tokens + rom_fic_tokens + humor_tokens\n",
    "len(Compiled_Data)\n",
    "Compiled_Unique = set(Compiled_Data)\n",
    "Compiled_Unique = list(Compiled_Unique)\n",
    "len(Compiled_Unique)"
   ]
  },
  {
   "cell_type": "markdown",
   "metadata": {},
   "source": [
    "## Data Collection"
   ]
  },
  {
   "cell_type": "code",
   "execution_count": 18,
   "metadata": {},
   "outputs": [
    {
     "data": {
      "text/plain": [
       "[(('的', 'de5', 'auxiliary'), 50832), (('是', 'shi4', 'verb'), 11427), (('了', 'le5', 'auxiliary'), 10379), (('在', 'zai4', 'preposition'), 9899), (('一', 'yi1', 'numeral'), 8365), (('和', 'he2', 'conjunction'), 7200), (('他', 'ta1', 'pronoun'), 5847), (('不', 'bu4', 'adv'), 5594), (('我', 'wo3', 'pronoun'), 5575), (('有', 'you3', 'verb'), 4957), (('这', 'zhe4', 'pronoun'), 4142), (('人', 'ren2', 'common noun'), 4025), (('也', 'ye3', 'adv'), 3895), (('说', 'shuo1', 'verb'), 3668), (('上', 'shang4', 'directional locality'), 3558), (('着', 'zhao2', 'auxiliary'), 3364), (('就', 'jiu4', 'adv'), 3236), (('地', 'di4', 'auxiliary'), 3209), (('中', 'zhong1', 'directional locality'), 3175), (('对', 'dui4', 'preposition'), 3155)]"
      ]
     },
     "execution_count": 18,
     "metadata": {},
     "output_type": "execute_result"
    }
   ],
   "source": [
    "from collections import Counter\n",
    "\n",
    "freq = Counter(Compiled_Data)\n",
    "freq.most_common(20)"
   ]
  },
  {
   "cell_type": "code",
   "execution_count": 19,
   "metadata": {
    "collapsed": true
   },
   "outputs": [],
   "source": [
    "Compiled_df = pd.DataFrame(Compiled_Unique)"
   ]
  },
  {
   "cell_type": "code",
   "execution_count": 20,
   "metadata": {},
   "outputs": [
    {
     "data": {
      "text/html": [
       "<div>\n",
       "<style>\n",
       "    .dataframe thead tr:only-child th {\n",
       "        text-align: right;\n",
       "    }\n",
       "\n",
       "    .dataframe thead th {\n",
       "        text-align: left;\n",
       "    }\n",
       "\n",
       "    .dataframe tbody tr th {\n",
       "        vertical-align: top;\n",
       "    }\n",
       "</style>\n",
       "<table border=\"1\" class=\"dataframe\">\n",
       "  <thead>\n",
       "    <tr style=\"text-align: right;\">\n",
       "      <th></th>\n",
       "      <th>Characters</th>\n",
       "      <th>Pinyin</th>\n",
       "      <th>POS</th>\n",
       "    </tr>\n",
       "  </thead>\n",
       "  <tbody>\n",
       "    <tr>\n",
       "      <th>0</th>\n",
       "      <td>掌</td>\n",
       "      <td>zhang3</td>\n",
       "      <td>noun morpheme</td>\n",
       "    </tr>\n",
       "    <tr>\n",
       "      <th>1</th>\n",
       "      <td>旅游鞋</td>\n",
       "      <td>luu3you2xie2</td>\n",
       "      <td>common noun</td>\n",
       "    </tr>\n",
       "    <tr>\n",
       "      <th>2</th>\n",
       "      <td>滴</td>\n",
       "      <td>di1</td>\n",
       "      <td>verb</td>\n",
       "    </tr>\n",
       "    <tr>\n",
       "      <th>3</th>\n",
       "      <td>曾祖父</td>\n",
       "      <td>zeng1zu3fu4</td>\n",
       "      <td>common noun</td>\n",
       "    </tr>\n",
       "    <tr>\n",
       "      <th>4</th>\n",
       "      <td>筹</td>\n",
       "      <td>chou2</td>\n",
       "      <td>verb</td>\n",
       "    </tr>\n",
       "  </tbody>\n",
       "</table>\n",
       "</div>"
      ],
      "text/plain": [
       "  Characters        Pinyin            POS\n",
       "0          掌        zhang3  noun morpheme\n",
       "1        旅游鞋  luu3you2xie2    common noun\n",
       "2          滴           di1           verb\n",
       "3        曾祖父   zeng1zu3fu4    common noun\n",
       "4          筹         chou2           verb"
      ]
     },
     "execution_count": 20,
     "metadata": {},
     "output_type": "execute_result"
    },
    {
     "data": {
      "text/html": [
       "<div>\n",
       "<style>\n",
       "    .dataframe thead tr:only-child th {\n",
       "        text-align: right;\n",
       "    }\n",
       "\n",
       "    .dataframe thead th {\n",
       "        text-align: left;\n",
       "    }\n",
       "\n",
       "    .dataframe tbody tr th {\n",
       "        vertical-align: top;\n",
       "    }\n",
       "</style>\n",
       "<table border=\"1\" class=\"dataframe\">\n",
       "  <thead>\n",
       "    <tr style=\"text-align: right;\">\n",
       "      <th></th>\n",
       "      <th>Characters</th>\n",
       "      <th>Pinyin</th>\n",
       "      <th>POS</th>\n",
       "    </tr>\n",
       "  </thead>\n",
       "  <tbody>\n",
       "    <tr>\n",
       "      <th>53371</th>\n",
       "      <td>二人</td>\n",
       "      <td>er4ren2</td>\n",
       "      <td>personal name</td>\n",
       "    </tr>\n",
       "    <tr>\n",
       "      <th>53372</th>\n",
       "      <td>耻</td>\n",
       "      <td>chi3</td>\n",
       "      <td>adj morpheme</td>\n",
       "    </tr>\n",
       "    <tr>\n",
       "      <th>53373</th>\n",
       "      <td>塑像</td>\n",
       "      <td>su4xiang4</td>\n",
       "      <td>common noun</td>\n",
       "    </tr>\n",
       "    <tr>\n",
       "      <th>53374</th>\n",
       "      <td>彪</td>\n",
       "      <td>biao1</td>\n",
       "      <td>classifier</td>\n",
       "    </tr>\n",
       "    <tr>\n",
       "      <th>53375</th>\n",
       "      <td>花言巧语</td>\n",
       "      <td>hua1yan2qiao3yu3</td>\n",
       "      <td>idiom</td>\n",
       "    </tr>\n",
       "  </tbody>\n",
       "</table>\n",
       "</div>"
      ],
      "text/plain": [
       "      Characters            Pinyin            POS\n",
       "53371         二人           er4ren2  personal name\n",
       "53372          耻              chi3   adj morpheme\n",
       "53373         塑像         su4xiang4    common noun\n",
       "53374          彪             biao1     classifier\n",
       "53375       花言巧语  hua1yan2qiao3yu3          idiom"
      ]
     },
     "execution_count": 20,
     "metadata": {},
     "output_type": "execute_result"
    }
   ],
   "source": [
    "Compiled_df.columns = ['Characters','Pinyin','POS']\n",
    "Compiled_df.head()\n",
    "Compiled_df.tail()"
   ]
  },
  {
   "cell_type": "code",
   "execution_count": 21,
   "metadata": {
    "collapsed": true
   },
   "outputs": [],
   "source": [
    "import matplotlib.pyplot as plt"
   ]
  },
  {
   "cell_type": "code",
   "execution_count": 22,
   "metadata": {},
   "outputs": [
    {
     "data": {
      "text/plain": [
       "<matplotlib.text.Text object at 0x000001C4B6DA9CF8>"
      ]
     },
     "execution_count": 22,
     "metadata": {},
     "output_type": "execute_result"
    },
    {
     "data": {
      "text/plain": [
       "<matplotlib.text.Text object at 0x000001C4B71003C8>"
      ]
     },
     "execution_count": 22,
     "metadata": {},
     "output_type": "execute_result"
    },
    {
     "data": {
      "image/png": "[encoded data removed]",
      "text/plain": [
       "<matplotlib.figure.Figure object at 0x000001C4B6D9C4A8>"
      ]
     },
     "metadata": {},
     "output_type": "display_data"
    }
   ],
   "source": [
    "POS = Compiled_df['POS'].value_counts().plot(kind='bar', title = 'Parts of Speech in Chinese', figsize = (30,30), fontsize = 24)\n",
    "POS.set_xlabel(\"Part of Speech\", fontsize = 24)\n",
    "POS.set_ylabel(\"Count\", fontsize = 24)\n",
    "plt.show()"
   ]
  },
  {
   "cell_type": "code",
   "execution_count": 23,
   "metadata": {},
   "outputs": [
    {
     "data": {
      "text/plain": [
       "46"
      ]
     },
     "execution_count": 23,
     "metadata": {},
     "output_type": "execute_result"
    },
    {
     "data": {
      "text/plain": [
       "[('死死的', 'si3si3de5', 'descriptive'), ('小小的', 'xiao3xiao3de5', 'descriptive'), ('的的', 'de5de5', 'verb'), ('细细的', 'xi4xi4de5', 'descriptive'), ('的', 'de5', 'non-predicate adj'), ('微微的', 'wei2wei2de5', 'descriptive'), ('的', 'de5', 'verb with nominal function'), ('短短的', 'duan3duan3de5', 'descriptive'), ('长长的', 'chang2chang2de5', 'descriptive'), ('高高的', 'gao1gao1de5', 'descriptive')]"
      ]
     },
     "execution_count": 23,
     "metadata": {},
     "output_type": "execute_result"
    },
    {
     "data": {
      "text/plain": [
       "17"
      ]
     },
     "execution_count": 23,
     "metadata": {},
     "output_type": "execute_result"
    },
    {
     "data": {
      "text/plain": [
       "[('的的', 'de5de5', 'verb'), ('的士高', 'de5shi4gao1', 'common noun'), ('的', 'de5', 'non-predicate adj'), ('的', 'de5', 'verb with nominal function'), ('的确良', 'di2que4liang2', 'common noun'), ('的', 'de5', 'common noun'), ('的', 'de5', 'adv'), ('的', 'de5', 'auxiliary'), ('的确', 'di2que4', 'adv'), ('的话', 'de5hua4', 'common noun')]"
      ]
     },
     "execution_count": 23,
     "metadata": {},
     "output_type": "execute_result"
    }
   ],
   "source": [
    "de_final = [(w,p,pos) for (w,p,pos) in Compiled_Unique if w.endswith('的')]\n",
    "len(de_final)\n",
    "de_final[:10]\n",
    "\n",
    "de_initial = [(w,p,pos) for (w,p,pos) in Compiled_Unique if w.startswith('的')]\n",
    "len(de_initial)\n",
    "de_initial[:10]"
   ]
  },
  {
   "cell_type": "markdown",
   "metadata": {},
   "source": [
    "### Parts of Speech"
   ]
  },
  {
   "cell_type": "code",
   "execution_count": 24,
   "metadata": {},
   "outputs": [
    {
     "data": {
      "text/plain": [
       "365"
      ]
     },
     "execution_count": 24,
     "metadata": {},
     "output_type": "execute_result"
    },
    {
     "data": {
      "text/plain": [
       "[('铃', 'ling2', 'onomatopoeia'), ('呀呀', 'ya1ya1', 'onomatopoeia'), ('喀嚓', 'ka1ca1', 'onomatopoeia'), ('喃喃', 'nan2nan2', 'onomatopoeia'), ('哇哇', 'wa1wa1', 'onomatopoeia'), ('隆隆', 'long2long2', 'onomatopoeia'), ('砰', 'peng1', 'onomatopoeia'), ('哇', 'wa1', 'onomatopoeia'), ('簌簌', 'su4su4', 'onomatopoeia'), ('啪', 'pai1', 'onomatopoeia')]"
      ]
     },
     "execution_count": 24,
     "metadata": {},
     "output_type": "execute_result"
    },
    {
     "data": {
      "text/plain": [
       "[(('哈哈', 'ha1ha1', 'onomatopoeia'), 19), (('呼', 'hu1', 'onomatopoeia'), 18), (('扑', 'pu1', 'onomatopoeia'), 15), (('刷', 'shua1', 'onomatopoeia'), 14), (('哇', 'wa1', 'onomatopoeia'), 13), (('嘿嘿', 'hei1hei1', 'onomatopoeia'), 13), (('喃喃', 'nan2nan2', 'onomatopoeia'), 9), (('吧', 'ba5', 'onomatopoeia'), 9), (('砰', 'peng1', 'onomatopoeia'), 8), (('刺', 'ci4', 'onomatopoeia'), 8)]"
      ]
     },
     "execution_count": 24,
     "metadata": {},
     "output_type": "execute_result"
    }
   ],
   "source": [
    "onomatopoeia = [(w,p,pos) for (w,p,pos) in Compiled_Data if pos == 'onomatopoeia']\n",
    "len(onomatopoeia)\n",
    "onomatopoeia[:10]\n",
    "onomatopoeia = Counter(onomatopoeia)\n",
    "onomatopoeia.most_common(10)"
   ]
  },
  {
   "cell_type": "code",
   "execution_count": 25,
   "metadata": {},
   "outputs": [
    {
     "data": {
      "text/plain": [
       "4766"
      ]
     },
     "execution_count": 25,
     "metadata": {},
     "output_type": "execute_result"
    },
    {
     "data": {
      "text/plain": [
       "[('踌躇满志', 'chou2chu2man3zhi4', 'idiom'), ('晕头转向', 'yun1tou2zhuan3xiang4', 'idiom'), ('束手无策', 'shu4shou3wu2ce4', 'idiom'), ('埋头苦干', 'mai2tou2ku3gan4', 'idiom'), ('横冲直撞', 'heng2chong1zhi2zhuang4', 'idiom'), ('强词夺理', 'qiang2ci2duo2li3', 'idiom'), ('花花世界', 'hua1hua1shi4jie4', 'idiom'), ('接踵而来', 'jie1zhong3er2lai2', 'idiom'), ('可想而知', 'ke3xiang3er2zhi1', 'idiom'), ('精神抖擞', 'jing1shen2dou3sou3', 'idiom')]"
      ]
     },
     "execution_count": 25,
     "metadata": {},
     "output_type": "execute_result"
    },
    {
     "data": {
      "text/plain": [
       "[(('艰苦奋斗', 'jian1ku3fen4dou4', 'idiom'), 25), (('无可奈何', 'wu2ke3nai4he2', 'idiom'), 22), (('全心全意', 'quan2xin1quan2yi4', 'idiom'), 19), (('解放思想', 'jie3fang4si1xiang3', 'idiom'), 17), (('小心翼翼', 'xiao3xin1yi4yi4', 'idiom'), 16), (('千方百计', 'qian1fang1bai3ji4', 'idiom'), 16), (('坚定不移', 'jian1ding4bu4yi2', 'idiom'), 16), (('引人注目', 'yin3ren2zhu4mu4', 'idiom'), 14), (('建功立业', 'jian4gong1li4ye4', 'idiom'), 14), (('彪形大汉', 'biao1xing2da4han4', 'idiom'), 14)]"
      ]
     },
     "execution_count": 25,
     "metadata": {},
     "output_type": "execute_result"
    }
   ],
   "source": [
    "idiom = [(w,p,pos) for (w,p,pos) in Compiled_Data if pos == 'idiom']\n",
    "len(idiom)\n",
    "idiom[:10]\n",
    "idiom = Counter(idiom)\n",
    "idiom.most_common(10)"
   ]
  },
  {
   "cell_type": "code",
   "execution_count": 26,
   "metadata": {},
   "outputs": [
    {
     "data": {
      "text/plain": [
       "180211"
      ]
     },
     "execution_count": 26,
     "metadata": {},
     "output_type": "execute_result"
    },
    {
     "data": {
      "text/plain": [
       "[(('人', 'ren2', 'common noun'), 4025), (('问题', 'wen4ti2', 'common noun'), 1149), (('经济', 'jing1ji4', 'common noun'), 1120), (('社会', 'she4hui4', 'common noun'), 1029), (('国家', 'guo2jia1', 'common noun'), 858), (('企业', 'qi4ye4', 'common noun'), 778), (('技术', 'ji4shu4', 'common noun'), 777), (('系统', 'xi4tong3', 'common noun'), 670), (('人们', 'ren2men5', 'common noun'), 669), (('孩子', 'hai2zi5', 'common noun'), 658)]"
      ]
     },
     "execution_count": 26,
     "metadata": {},
     "output_type": "execute_result"
    }
   ],
   "source": [
    "nouns = [(w,p,pos) for (w,p,pos) in Compiled_Data if pos == 'common noun']\n",
    "len(nouns)\n",
    "nouns = Counter(nouns)\n",
    "nouns.most_common(10)"
   ]
  },
  {
   "cell_type": "markdown",
   "metadata": {},
   "source": [
    "### Formal vs Informal Text"
   ]
  },
  {
   "cell_type": "code",
   "execution_count": 27,
   "metadata": {},
   "outputs": [
    {
     "data": {
      "text/plain": [
       "2900"
      ]
     },
     "execution_count": 27,
     "metadata": {},
     "output_type": "execute_result"
    },
    {
     "data": {
      "text/plain": [
       "214"
      ]
     },
     "execution_count": 27,
     "metadata": {},
     "output_type": "execute_result"
    }
   ],
   "source": [
    "# Going to try and look at formal vs informal text\n",
    "informal_ni = [(w,p,pos) for (w,p,pos) in Compiled_Data if w == '你']\n",
    "len(informal_ni)\n",
    "formal_ni = [(w,p,pos) for (w,p,pos) in Compiled_Data if w == '您']\n",
    "len(formal_ni)"
   ]
  },
  {
   "cell_type": "code",
   "execution_count": 28,
   "metadata": {},
   "outputs": [
    {
     "data": {
      "text/plain": [
       "51"
      ]
     },
     "execution_count": 28,
     "metadata": {},
     "output_type": "execute_result"
    },
    {
     "data": {
      "text/plain": [
       "41"
      ]
     },
     "execution_count": 28,
     "metadata": {},
     "output_type": "execute_result"
    }
   ],
   "source": [
    "# More formal vs informal\n",
    "informal_wife = [(w,p,pos) for (w,p,pos) in Compiled_Data if w == '老婆']\n",
    "len(informal_wife)\n",
    "formal_wife = [(w,p,pos) for (w,p,pos) in Compiled_Data if w == '太太']\n",
    "len(formal_wife)"
   ]
  },
  {
   "cell_type": "code",
   "execution_count": 29,
   "metadata": {},
   "outputs": [
    {
     "data": {
      "text/plain": [
       "0"
      ]
     },
     "execution_count": 29,
     "metadata": {},
     "output_type": "execute_result"
    },
    {
     "data": {
      "text/plain": [
       "187"
      ]
     },
     "execution_count": 29,
     "metadata": {},
     "output_type": "execute_result"
    }
   ],
   "source": [
    "# More formal vs informal\n",
    "informal_parents = [(w,p,pos) for (w,p,pos) in Compiled_Data if w == '爸妈' or w == '爸爸妈妈']\n",
    "#The two terms in informal are interchangeable as one is just reduplication\n",
    "formal_parents = [(w,p,pos) for (w,p,pos) in Compiled_Data if w == '父母']\n",
    "len(informal_parents)\n",
    "len(formal_parents)"
   ]
  },
  {
   "cell_type": "markdown",
   "metadata": {},
   "source": [
    "### Looking at Pronouns"
   ]
  },
  {
   "cell_type": "code",
   "execution_count": 30,
   "metadata": {},
   "outputs": [
    {
     "data": {
      "text/plain": [
       "49714"
      ]
     },
     "execution_count": 30,
     "metadata": {},
     "output_type": "execute_result"
    },
    {
     "data": {
      "text/plain": [
       "[(('他', 'ta1', 'pronoun'), 5847), (('我', 'wo3', 'pronoun'), 5575), (('这', 'zhe4', 'pronoun'), 4142), (('你', 'ni3', 'pronoun'), 2900), (('她', 'ta1', 'pronoun'), 2825), (('我们', 'wo3men5', 'pronoun'), 1969), (('他们', 'ta1men5', 'pronoun'), 1586), (('自己', 'zi4ji3', 'pronoun'), 1578), (('那', 'na3', 'pronoun'), 1537), (('什么', 'shen2me5', 'pronoun'), 1078), (('它', 'ta1', 'pronoun'), 1077), (('这个', 'zhe4ge4', 'pronoun'), 987), (('这样', 'zhe4yang4', 'pronoun'), 852), (('其', 'qi2', 'pronoun'), 826), (('这种', 'zhe4zhong3', 'pronoun'), 798), (('这些', 'zhe4xie1', 'pronoun'), 672), (('各', 'ge4', 'pronoun'), 515), (('各种', 'ge4zhong3', 'pronoun'), 416), (('谁', 'shei2', 'pronoun'), 400), (('这里', 'zhe4li3', 'pronoun'), 385)]"
      ]
     },
     "execution_count": 30,
     "metadata": {},
     "output_type": "execute_result"
    },
    {
     "data": {
      "text/plain": [
       "352"
      ]
     },
     "execution_count": 30,
     "metadata": {},
     "output_type": "execute_result"
    }
   ],
   "source": [
    "# Let's look at pronouns now\n",
    "pronouns = [(w,p,pos) for (w,p,pos) in Compiled_Data if pos == 'pronoun' or pos == 'pronoun morpheme']\n",
    "len(pronouns)\n",
    "pronouns = Counter(pronouns)\n",
    "pronouns.most_common(20)\n",
    "\n",
    "unique_pronouns = [(w,p,pos) for (w,p,pos) in Compiled_Unique if pos == 'pronoun' or pos == 'pronoun morpheme']\n",
    "len(unique_pronouns)"
   ]
  },
  {
   "cell_type": "code",
   "execution_count": 31,
   "metadata": {},
   "outputs": [
    {
     "data": {
      "text/plain": [
       "5898"
      ]
     },
     "execution_count": 31,
     "metadata": {},
     "output_type": "execute_result"
    },
    {
     "data": {
      "text/plain": [
       "2825"
      ]
     },
     "execution_count": 31,
     "metadata": {},
     "output_type": "execute_result"
    },
    {
     "data": {
      "text/plain": [
       "1077"
      ]
     },
     "execution_count": 31,
     "metadata": {},
     "output_type": "execute_result"
    }
   ],
   "source": [
    "# Is the male or female version of 'ta1' used more frequently? What about the gender neutral version?\n",
    "male_ta = [(w,p,pos) for (w,p,pos) in Compiled_Data if w == '他']\n",
    "len(male_ta)\n",
    "female_ta = [(w,p,pos) for (w,p,pos) in Compiled_Data if w == '她']\n",
    "len(female_ta)\n",
    "neutral_ta = [(w,p,pos) for (w,p,pos) in Compiled_Data if w == '它']\n",
    "len(neutral_ta)"
   ]
  }
 ],
 "metadata": {
  "kernelspec": {
   "display_name": "Python 3",
   "language": "python",
   "name": "python3"
  },
  "language_info": {
   "codemirror_mode": {
    "name": "ipython",
    "version": 3
   },
   "file_extension": ".py",
   "mimetype": "text/x-python",
   "name": "python",
   "nbconvert_exporter": "python",
   "pygments_lexer": "ipython3",
   "version": "3.6.1"
  }
 },
 "nbformat": 4,
 "nbformat_minor": 2
}
