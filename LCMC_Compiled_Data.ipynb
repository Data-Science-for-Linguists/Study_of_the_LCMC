{
 "cells": [
  {
   "cell_type": "code",
   "execution_count": 2,
   "metadata": {},
   "outputs": [
    {
     "name": "stdout",
     "output_type": "stream",
     "text": [
      "Pretty printing has been turned OFF\n"
     ]
    }
   ],
   "source": [
    "import bs4 as bs\n",
    "import pandas as pd\n",
    "from IPython.core.interactiveshell import InteractiveShell\n",
    "%pprint\n",
    "InteractiveShell.ast_node_interactivity = 'all'\n",
    "lcmc_char = \"/Users/ktlan/Documents/Data_Science/project_KyleLandin/2474/Lcmc/data/character/\"\n",
    "lcmc_pinyin = \"/Users/ktlan/Documents/Data_Science/project_KyleLandin/2474/Lcmc/data/pinyin/\"\n",
    "#These map to the Character data folder and the Pinyin data folder"
   ]
  },
  {
   "cell_type": "markdown",
   "metadata": {},
   "source": [
    "# News Reportage"
   ]
  },
  {
   "cell_type": "code",
   "execution_count": 3,
   "metadata": {
    "collapsed": true
   },
   "outputs": [],
   "source": [
    "newsrep_char = (lcmc_char + 'LCMC_A.xml')\n",
    "newsrep_infile = open(newsrep_char, 'r', encoding='utf8')\n",
    "newsrep_contents = newsrep_infile.read()\n",
    "newsrep_soup = bs.BeautifulSoup(newsrep_contents, 'xml')\n",
    "# Getting the characters and parts of speech\n",
    "# Only need the pos from one set of the data since it will be the same in the pinyin data that we will be merging with\n",
    "nrchar = [w_tag.text for w_tag in newsrep_soup.find_all('w')]\n",
    "nrpos = [w_tag.get('POS') for w_tag in newsrep_soup.find_all('w')]\n",
    "# Getting the pinyin from the pinyin xml file\n",
    "newsrep_pin = (lcmc_pinyin + 'LCMC_A.xml')\n",
    "newsrep_pin_infile = open(newsrep_pin, 'r', encoding='utf8')\n",
    "newsrep_pin_contents = newsrep_pin_infile.read()\n",
    "newsrep_pin_soup = bs.BeautifulSoup(newsrep_pin_contents, 'xml')\n",
    "# Pinyin into a list\n",
    "nrpinyin = [w_tag.text for w_tag in newsrep_pin_soup.find_all('w')]\n",
    "# Combining the character, pinyin, and pos lists into one\n",
    "nr_tokens = list(zip(nrchar, nrpinyin, nrpos))\n",
    "nr_unique = set(nr_tokens)"
   ]
  },
  {
   "cell_type": "markdown",
   "metadata": {},
   "source": [
    "# News Editorial Data"
   ]
  },
  {
   "cell_type": "code",
   "execution_count": 4,
   "metadata": {},
   "outputs": [
    {
     "data": {
      "text/plain": [
       "[('缓解', 'huan3jie3', 'v'), ('南北', 'nan2bei3', 'f'), ('矛盾', 'mao2dun4', 'an'), ('的', 'de5', 'u'), ('出路', 'chu1lu4', 'n')]"
      ]
     },
     "execution_count": 4,
     "metadata": {},
     "output_type": "execute_result"
    }
   ],
   "source": [
    "newsedit_char = (lcmc_char + 'LCMC_B.xml')\n",
    "newsedit_infile = open(newsedit_char, 'r', encoding='utf8')\n",
    "newsedit_contents = newsedit_infile.read()\n",
    "newsedit_soup = bs.BeautifulSoup(newsedit_contents, 'xml')\n",
    "\n",
    "nechar = [w_tag.text for w_tag in newsedit_soup.find_all('w')]\n",
    "nepos = [w_tag.get('POS') for w_tag in newsedit_soup.find_all('w')]\n",
    "\n",
    "newsedit_pin = (lcmc_pinyin + 'LCMC_B.xml')\n",
    "newsedit_pin_infile = open(newsedit_pin, 'r', encoding='utf8')\n",
    "newsedit_pin_contents = newsedit_pin_infile.read()\n",
    "newsedit_pin_soup = bs.BeautifulSoup(newsedit_pin_contents, 'xml')\n",
    "\n",
    "nepinyin = [w_tag.text for w_tag in newsedit_pin_soup.find_all('w')]\n",
    "\n",
    "ne_tokens = list(zip(nechar, nepinyin, nepos))\n",
    "ne_unique = set(ne_tokens)\n",
    "\n",
    "ne_tokens[:5]"
   ]
  },
  {
   "cell_type": "markdown",
   "metadata": {},
   "source": [
    "# News Review Data"
   ]
  },
  {
   "cell_type": "code",
   "execution_count": 5,
   "metadata": {},
   "outputs": [
    {
     "data": {
      "text/plain": [
       "[('德克勒克', 'de2ke4le4ke4', 'nr'), ('讲话', 'jiang3hua4', 'n'), ('初', 'chu1', 'dg'), ('析', 'xi1', 'vg'), ('新华社', 'xin1hua2she4', 'nt')]"
      ]
     },
     "execution_count": 5,
     "metadata": {},
     "output_type": "execute_result"
    }
   ],
   "source": [
    "newsrev_char = (lcmc_char + 'LCMC_C.xml')\n",
    "newsrev_infile = open(newsrev_char, 'r', encoding='utf8')\n",
    "newsrev_contents = newsrev_infile.read()\n",
    "newsrev_soup = bs.BeautifulSoup(newsrev_contents, 'xml')\n",
    "\n",
    "nrvchar = [w_tag.text for w_tag in newsrev_soup.find_all('w')]\n",
    "nrvpos = [w_tag.get('POS') for w_tag in newsrev_soup.find_all('w')]\n",
    "\n",
    "newsrev_pin = (lcmc_pinyin + 'LCMC_C.xml')\n",
    "newsrev_pin_infile = open(newsrev_pin, 'r', encoding='utf8')\n",
    "newsrev_pin_contents = newsrev_pin_infile.read()\n",
    "newsrev_pin_soup = bs.BeautifulSoup(newsrev_pin_contents, 'xml')\n",
    "\n",
    "nrvpinyin = [w_tag.text for w_tag in newsrev_pin_soup.find_all('w')]\n",
    "\n",
    "nrv_tokens = list(zip(nrvchar, nrvpinyin, nrvpos))\n",
    "nrv_unique = set(nrv_tokens)\n",
    "\n",
    "nrv_tokens[:5]"
   ]
  },
  {
   "cell_type": "markdown",
   "metadata": {},
   "source": [
    "# Religion Data"
   ]
  },
  {
   "cell_type": "code",
   "execution_count": 6,
   "metadata": {},
   "outputs": [
    {
     "data": {
      "text/plain": [
       "[('一', 'yi1', 'm'), ('如何', 'ru2he2', 'r'), ('理解', 'li3jie3', 'v'), ('佛教', 'fo2jiao4', 'nz'), ('对于', 'dui4yu2', 'p')]"
      ]
     },
     "execution_count": 6,
     "metadata": {},
     "output_type": "execute_result"
    }
   ],
   "source": [
    "rel_char = (lcmc_char + 'LCMC_D.xml')\n",
    "rel_infile = open(rel_char, 'r', encoding='utf8')\n",
    "rel_contents = rel_infile.read()\n",
    "rel_soup = bs.BeautifulSoup(rel_contents, 'xml')\n",
    "\n",
    "relchar = [w_tag.text for w_tag in rel_soup.find_all('w')]\n",
    "relpos = [w_tag.get('POS') for w_tag in rel_soup.find_all('w')]\n",
    "\n",
    "rel_pin = (lcmc_pinyin + 'LCMC_D.xml')\n",
    "rel_pin_infile = open(rel_pin, 'r', encoding='utf8')\n",
    "rel_pin_contents = rel_pin_infile.read()\n",
    "rel_pin_soup = bs.BeautifulSoup(rel_pin_contents, 'xml')\n",
    "\n",
    "relpinyin = [w_tag.text for w_tag in rel_pin_soup.find_all('w')]\n",
    "\n",
    "rel_tokens = list(zip(relchar, relpinyin, relpos))\n",
    "rel_unique = set(rel_tokens)\n",
    "\n",
    "rel_tokens[:5]"
   ]
  },
  {
   "cell_type": "markdown",
   "metadata": {},
   "source": [
    "# Skills, Trades, and Hobbies Data"
   ]
  },
  {
   "cell_type": "code",
   "execution_count": 7,
   "metadata": {},
   "outputs": [
    {
     "data": {
      "text/plain": [
       "[('同事', 'tong2shi4', 'n'), ('相处', 'xiang1chu3', 'v'), ('的', 'de5', 'u'), ('技巧', 'ji4qiao3', 'n'), ('同事', 'tong2shi4', 'n')]"
      ]
     },
     "execution_count": 7,
     "metadata": {},
     "output_type": "execute_result"
    }
   ],
   "source": [
    "sth_char = (lcmc_char + 'LCMC_E.xml')\n",
    "sth_infile = open(sth_char, 'r', encoding='utf8')\n",
    "sth_contents = sth_infile.read()\n",
    "sth_soup = bs.BeautifulSoup(sth_contents, 'xml')\n",
    "\n",
    "sthchar = [w_tag.text for w_tag in sth_soup.find_all('w')]\n",
    "sthpos = [w_tag.get('POS') for w_tag in sth_soup.find_all('w')]\n",
    "\n",
    "sth_pin = (lcmc_pinyin + 'LCMC_E.xml')\n",
    "sth_pin_infile = open(sth_pin, 'r', encoding='utf8')\n",
    "sth_pin_contents = sth_pin_infile.read()\n",
    "sth_pin_soup = bs.BeautifulSoup(sth_pin_contents, 'xml')\n",
    "\n",
    "sthpinyin = [w_tag.text for w_tag in sth_pin_soup.find_all('w')]\n",
    "\n",
    "sth_tokens = list(zip(sthchar, sthpinyin, sthpos))\n",
    "sth_unique = set(sth_tokens)\n",
    "\n",
    "sth_tokens[:5]"
   ]
  },
  {
   "cell_type": "markdown",
   "metadata": {},
   "source": [
    "# Popular Lore Data"
   ]
  },
  {
   "cell_type": "code",
   "execution_count": 8,
   "metadata": {},
   "outputs": [
    {
     "data": {
      "text/plain": [
       "[('在', 'zai4', 'p'), ('高速公路', 'gao1su4gong1lu4', 'n'), ('干道', 'gan1dao4', 'n'), ('上', 'shang4', 'f'), ('行驶', 'xing2shi3', 'v')]"
      ]
     },
     "execution_count": 8,
     "metadata": {},
     "output_type": "execute_result"
    }
   ],
   "source": [
    "poplore_char = (lcmc_char + 'LCMC_F.xml')\n",
    "poplore_infile = open(poplore_char, 'r', encoding='utf8')\n",
    "poplore_contents = poplore_infile.read()\n",
    "poplore_soup = bs.BeautifulSoup(poplore_contents, 'xml')\n",
    "\n",
    "poplorechar = [w_tag.text for w_tag in poplore_soup.find_all('w')]\n",
    "poplorepos = [w_tag.get('POS') for w_tag in poplore_soup.find_all('w')]\n",
    "\n",
    "poplore_pin = (lcmc_pinyin + 'LCMC_F.xml')\n",
    "poplore_pin_infile = open(poplore_pin, 'r', encoding='utf8')\n",
    "poplore_pin_contents = poplore_pin_infile.read()\n",
    "poplore_pin_soup = bs.BeautifulSoup(poplore_pin_contents, 'xml')\n",
    "\n",
    "poplorepinyin = [w_tag.text for w_tag in poplore_pin_soup.find_all('w')]\n",
    "\n",
    "poplore_tokens = list(zip(poplorechar, poplorepinyin, poplorepos))\n",
    "poplore_unique = set(poplore_tokens)\n",
    "\n",
    "poplore_tokens[:5]"
   ]
  },
  {
   "cell_type": "markdown",
   "metadata": {},
   "source": [
    "# Biography and Essay Data"
   ]
  },
  {
   "cell_type": "code",
   "execution_count": 9,
   "metadata": {},
   "outputs": [
    {
     "data": {
      "text/plain": [
       "[('第二', 'di4er4', 'm'), ('章', 'zhang1', 'q'), ('是', 'shi4', 'v'), ('缪斯', 'miao4si1', 'nr'), ('的', 'de5', 'u')]"
      ]
     },
     "execution_count": 9,
     "metadata": {},
     "output_type": "execute_result"
    }
   ],
   "source": [
    "bio_char = (lcmc_char + 'LCMC_G.xml')\n",
    "bio_infile = open(bio_char, 'r', encoding='utf8')\n",
    "bio_contents = bio_infile.read()\n",
    "bio_soup = bs.BeautifulSoup(bio_contents, 'xml')\n",
    "\n",
    "biochar = [w_tag.text for w_tag in bio_soup.find_all('w')]\n",
    "biopos = [w_tag.get('POS') for w_tag in bio_soup.find_all('w')]\n",
    "\n",
    "bio_pin = (lcmc_pinyin + 'LCMC_G.xml')\n",
    "bio_pin_infile = open(bio_pin, 'r', encoding='utf8')\n",
    "bio_pin_contents = bio_pin_infile.read()\n",
    "bio_pin_soup = bs.BeautifulSoup(bio_pin_contents, 'xml')\n",
    "\n",
    "biopinyin = [w_tag.text for w_tag in bio_pin_soup.find_all('w')]\n",
    "\n",
    "bio_tokens = list(zip(biochar, biopinyin, biopos))\n",
    "bio_unique = set(bio_tokens)\n",
    "\n",
    "bio_tokens[:5]"
   ]
  },
  {
   "cell_type": "markdown",
   "metadata": {},
   "source": [
    "# Miscellaneous: Reports and Official Documents Data"
   ]
  },
  {
   "cell_type": "code",
   "execution_count": 10,
   "metadata": {},
   "outputs": [
    {
     "data": {
      "text/plain": [
       "[('全国', 'quan2guo2', 'n'), ('人民', 'ren2min2', 'n'), ('代表大会', 'dai4biao3da4hui4', 'n'), ('常务', 'chang2wu4', 'b'), ('委员会', 'wei3yuan2hui4', 'n')]"
      ]
     },
     "execution_count": 10,
     "metadata": {},
     "output_type": "execute_result"
    }
   ],
   "source": [
    "misc_char = (lcmc_char + 'LCMC_H.xml')\n",
    "misc_infile = open(misc_char, 'r', encoding='utf8')\n",
    "misc_contents = misc_infile.read()\n",
    "misc_soup = bs.BeautifulSoup(misc_contents, 'xml')\n",
    "\n",
    "miscchar = [w_tag.text for w_tag in misc_soup.find_all('w')]\n",
    "miscpos = [w_tag.get('POS') for w_tag in misc_soup.find_all('w')]\n",
    "\n",
    "misc_pin = (lcmc_pinyin + 'LCMC_H.xml')\n",
    "misc_pin_infile = open(misc_pin, 'r', encoding='utf8')\n",
    "misc_pin_contents = misc_pin_infile.read()\n",
    "misc_pin_soup = bs.BeautifulSoup(misc_pin_contents, 'xml')\n",
    "\n",
    "miscpinyin = [w_tag.text for w_tag in misc_pin_soup.find_all('w')]\n",
    "\n",
    "misc_tokens = list(zip(miscchar, miscpinyin, miscpos))\n",
    "misc_unique = set(misc_tokens)\n",
    "\n",
    "misc_tokens[:5]"
   ]
  },
  {
   "cell_type": "markdown",
   "metadata": {},
   "source": [
    "# Science: Academic Prose Data"
   ]
  },
  {
   "cell_type": "code",
   "execution_count": 11,
   "metadata": {},
   "outputs": [
    {
     "data": {
      "text/plain": [
       "[('第一', 'di4yi1', 'm'), ('节', 'jie2', 'q'), ('肥胖', 'fei2pang4', 'a'), ('的', 'de5', 'u'), ('病因', 'bing4yin1', 'n')]"
      ]
     },
     "execution_count": 11,
     "metadata": {},
     "output_type": "execute_result"
    }
   ],
   "source": [
    "sci_char = (lcmc_char + 'LCMC_J.xml')\n",
    "sci_infile = open(sci_char, 'r', encoding='utf8')\n",
    "sci_contents = sci_infile.read()\n",
    "sci_soup = bs.BeautifulSoup(sci_contents, 'xml')\n",
    "\n",
    "scichar = [w_tag.text for w_tag in sci_soup.find_all('w')]\n",
    "scipos = [w_tag.get('POS') for w_tag in sci_soup.find_all('w')]\n",
    "\n",
    "sci_pin = (lcmc_pinyin + 'LCMC_J.xml')\n",
    "sci_pin_infile = open(sci_pin, 'r', encoding='utf8')\n",
    "sci_pin_contents = sci_pin_infile.read()\n",
    "sci_pin_soup = bs.BeautifulSoup(sci_pin_contents, 'xml')\n",
    "\n",
    "scipinyin = [w_tag.text for w_tag in sci_pin_soup.find_all('w')]\n",
    "\n",
    "sci_tokens = list(zip(scichar, scipinyin, scipos))\n",
    "sci_unique = set(sci_tokens)\n",
    "\n",
    "sci_tokens[:5]"
   ]
  },
  {
   "cell_type": "markdown",
   "metadata": {},
   "source": [
    "# General Fiction Data"
   ]
  },
  {
   "cell_type": "code",
   "execution_count": 12,
   "metadata": {},
   "outputs": [
    {
     "data": {
      "text/plain": [
       "[('什么', 'shen2me5', 'r'), ('事情', 'shi4qing2', 'n'), ('都', 'dou1', 'd'), ('是', 'shi4', 'v'), ('说', 'shuo1', 'v')]"
      ]
     },
     "execution_count": 12,
     "metadata": {},
     "output_type": "execute_result"
    }
   ],
   "source": [
    "gen_fic_char = (lcmc_char + 'LCMC_K.xml')\n",
    "gen_fic_infile = open(gen_fic_char, 'r', encoding='utf8')\n",
    "gen_fic_contents = gen_fic_infile.read()\n",
    "gen_fic_soup = bs.BeautifulSoup(gen_fic_contents, 'xml')\n",
    "\n",
    "gen_ficchar = [w_tag.text for w_tag in gen_fic_soup.find_all('w')]\n",
    "gen_ficpos = [w_tag.get('POS') for w_tag in gen_fic_soup.find_all('w')]\n",
    "\n",
    "gen_fic_pin = (lcmc_pinyin + 'LCMC_K.xml')\n",
    "gen_fic_pin_infile = open(gen_fic_pin, 'r', encoding='utf8')\n",
    "gen_fic_pin_contents = gen_fic_pin_infile.read()\n",
    "gen_fic_pin_soup = bs.BeautifulSoup(gen_fic_pin_contents, 'xml')\n",
    "\n",
    "gen_ficpinyin = [w_tag.text for w_tag in gen_fic_pin_soup.find_all('w')]\n",
    "\n",
    "gen_fic_tokens = list(zip(gen_ficchar, gen_ficpinyin, gen_ficpos))\n",
    "gen_fic_unique = set(gen_fic_tokens)\n",
    "\n",
    "gen_fic_tokens[:5]"
   ]
  },
  {
   "cell_type": "markdown",
   "metadata": {},
   "source": [
    "# Mystery and Detective Fiction Data"
   ]
  },
  {
   "cell_type": "code",
   "execution_count": 13,
   "metadata": {},
   "outputs": [
    {
     "data": {
      "text/plain": [
       "[('八', 'ba1', 'm'), ('致命', 'zhi4ming4', 'v'), ('的', 'de5', 'u'), ('侥幸', 'jiao3xing4', 'a'), ('心理', 'xin1li3', 'n')]"
      ]
     },
     "execution_count": 13,
     "metadata": {},
     "output_type": "execute_result"
    }
   ],
   "source": [
    "myst_char = (lcmc_char + 'LCMC_L.xml')\n",
    "myst_infile = open(myst_char, 'r', encoding='utf8')\n",
    "myst_contents = myst_infile.read()\n",
    "myst_soup = bs.BeautifulSoup(myst_contents, 'xml')\n",
    "\n",
    "mystchar = [w_tag.text for w_tag in myst_soup.find_all('w')]\n",
    "mystpos = [w_tag.get('POS') for w_tag in myst_soup.find_all('w')]\n",
    "\n",
    "myst_pin = (lcmc_pinyin + 'LCMC_L.xml')\n",
    "myst_pin_infile = open(myst_pin, 'r', encoding='utf8')\n",
    "myst_pin_contents = myst_pin_infile.read()\n",
    "myst_pin_soup = bs.BeautifulSoup(myst_pin_contents, 'xml')\n",
    "\n",
    "mystpinyin = [w_tag.text for w_tag in myst_pin_soup.find_all('w')]\n",
    "\n",
    "myst_tokens = list(zip(mystchar, mystpinyin, mystpos))\n",
    "myst_unique = set(myst_tokens)\n",
    "\n",
    "myst_tokens[:5]"
   ]
  },
  {
   "cell_type": "markdown",
   "metadata": {},
   "source": [
    "# Science Fiction Data"
   ]
  },
  {
   "cell_type": "code",
   "execution_count": 14,
   "metadata": {},
   "outputs": [
    {
     "data": {
      "text/plain": [
       "[('第五', 'di4wu3', 'm'), ('部', 'bu4', 'q'), ('预', 'yu4', 'd'), ('知', 'zhi1', 'v'), ('能力', 'neng2li4', 'n')]"
      ]
     },
     "execution_count": 14,
     "metadata": {},
     "output_type": "execute_result"
    }
   ],
   "source": [
    "sci_fic_char = (lcmc_char + 'LCMC_M.xml')\n",
    "sci_fic_infile = open(sci_fic_char, 'r', encoding='utf8')\n",
    "sci_fic_contents = sci_fic_infile.read()\n",
    "sci_fic_soup = bs.BeautifulSoup(sci_fic_contents, 'xml')\n",
    "\n",
    "sci_ficchar = [w_tag.text for w_tag in sci_fic_soup.find_all('w')]\n",
    "sci_ficpos = [w_tag.get('POS') for w_tag in sci_fic_soup.find_all('w')]\n",
    "\n",
    "sci_fic_pin = (lcmc_pinyin + 'LCMC_M.xml')\n",
    "sci_fic_pin_infile = open(sci_fic_pin, 'r', encoding='utf8')\n",
    "sci_fic_pin_contents = sci_fic_pin_infile.read()\n",
    "sci_fic_pin_soup = bs.BeautifulSoup(sci_fic_pin_contents, 'xml')\n",
    "\n",
    "sci_ficpinyin = [w_tag.text for w_tag in sci_fic_pin_soup.find_all('w')]\n",
    "\n",
    "sci_fic_tokens = list(zip(sci_ficchar, sci_ficpinyin, sci_ficpos))\n",
    "sci_fic_unique = set(sci_fic_tokens)\n",
    "\n",
    "sci_fic_tokens[:5]"
   ]
  },
  {
   "cell_type": "markdown",
   "metadata": {},
   "source": [
    "# Adventure and Martial Arts Fiction Data"
   ]
  },
  {
   "cell_type": "code",
   "execution_count": 15,
   "metadata": {},
   "outputs": [
    {
     "data": {
      "text/plain": [
       "[('云', 'yun2', 'n'), ('在', 'zai4', 'p'), ('天空', 'tian1kong1', 'n'), ('游荡', 'you2dang4', 'vn'), ('它', 'ta1', 'r')]"
      ]
     },
     "execution_count": 15,
     "metadata": {},
     "output_type": "execute_result"
    }
   ],
   "source": [
    "ama_fic_char = (lcmc_char + 'LCMC_N.xml')\n",
    "ama_fic_infile = open(ama_fic_char, 'r', encoding='utf8')\n",
    "ama_fic_contents = ama_fic_infile.read()\n",
    "ama_fic_soup = bs.BeautifulSoup(ama_fic_contents, 'xml')\n",
    "\n",
    "ama_ficchar = [w_tag.text for w_tag in ama_fic_soup.find_all('w')]\n",
    "ama_ficpos = [w_tag.get('POS') for w_tag in ama_fic_soup.find_all('w')]\n",
    "\n",
    "ama_fic_pin = (lcmc_pinyin + 'LCMC_N.xml')\n",
    "ama_fic_pin_infile = open(ama_fic_pin, 'r', encoding='utf8')\n",
    "ama_fic_pin_contents = ama_fic_pin_infile.read()\n",
    "ama_fic_pin_soup = bs.BeautifulSoup(ama_fic_pin_contents, 'xml')\n",
    "\n",
    "ama_ficpinyin = [w_tag.text for w_tag in ama_fic_pin_soup.find_all('w')]\n",
    "\n",
    "ama_fic_tokens = list(zip(ama_ficchar, ama_ficpinyin, ama_ficpos))\n",
    "ama_fic_unique = set(ama_fic_tokens)\n",
    "\n",
    "ama_fic_tokens[:5]"
   ]
  },
  {
   "cell_type": "markdown",
   "metadata": {},
   "source": [
    "# Romantic Fiction Data"
   ]
  },
  {
   "cell_type": "code",
   "execution_count": 16,
   "metadata": {},
   "outputs": [
    {
     "data": {
      "text/plain": [
       "[('萍', 'ping2', 'ng'), ('聚', 'ju4', 'v'), ('特别', 'te4bie2', 'd'), ('是', 'shi4', 'v'), ('外面', 'wai4mian4', 'f')]"
      ]
     },
     "execution_count": 16,
     "metadata": {},
     "output_type": "execute_result"
    }
   ],
   "source": [
    "rom_fic_char = (lcmc_char + 'LCMC_P.xml')\n",
    "rom_fic_infile = open(rom_fic_char, 'r', encoding='utf8')\n",
    "rom_fic_contents = rom_fic_infile.read()\n",
    "rom_fic_soup = bs.BeautifulSoup(rom_fic_contents, 'xml')\n",
    "\n",
    "rom_ficchar = [w_tag.text for w_tag in rom_fic_soup.find_all('w')]\n",
    "rom_ficpos = [w_tag.get('POS') for w_tag in rom_fic_soup.find_all('w')]\n",
    "\n",
    "rom_fic_pin = (lcmc_pinyin + 'LCMC_P.xml')\n",
    "rom_fic_pin_infile = open(rom_fic_pin, 'r', encoding='utf8')\n",
    "rom_fic_pin_contents = rom_fic_pin_infile.read()\n",
    "rom_fic_pin_soup = bs.BeautifulSoup(rom_fic_pin_contents, 'xml')\n",
    "\n",
    "rom_ficpinyin = [w_tag.text for w_tag in rom_fic_pin_soup.find_all('w')]\n",
    "\n",
    "rom_fic_tokens = list(zip(rom_ficchar, rom_ficpinyin, rom_ficpos))\n",
    "rom_fic_unique = set(rom_fic_tokens)\n",
    "\n",
    "rom_fic_tokens[:5]"
   ]
  },
  {
   "cell_type": "markdown",
   "metadata": {},
   "source": [
    "# Humor Data"
   ]
  },
  {
   "cell_type": "code",
   "execution_count": 17,
   "metadata": {},
   "outputs": [
    {
     "data": {
      "text/plain": [
       "[('排队', 'pai2dui4', 'v'), ('打耳光', 'da3er3guang1', 'l'), ('江湖', 'jiang1hu2', 'n'), ('医生', 'yi1sheng1', 'n'), ('卖', 'mai4', 'v')]"
      ]
     },
     "execution_count": 17,
     "metadata": {},
     "output_type": "execute_result"
    }
   ],
   "source": [
    "humor_char = (lcmc_char + 'LCMC_R.xml')\n",
    "humor_infile = open(humor_char, 'r', encoding='utf8')\n",
    "humor_contents = humor_infile.read()\n",
    "humor_soup = bs.BeautifulSoup(humor_contents, 'xml')\n",
    "\n",
    "humorchar = [w_tag.text for w_tag in humor_soup.find_all('w')]\n",
    "humorpos = [w_tag.get('POS') for w_tag in humor_soup.find_all('w')]\n",
    "\n",
    "humor_pin = (lcmc_pinyin + 'LCMC_R.xml')\n",
    "humor_pin_infile = open(humor_pin, 'r', encoding='utf8')\n",
    "humor_pin_contents = humor_pin_infile.read()\n",
    "humor_pin_soup = bs.BeautifulSoup(humor_pin_contents, 'xml')\n",
    "\n",
    "humorpinyin = [w_tag.text for w_tag in humor_pin_soup.find_all('w')]\n",
    "\n",
    "humor_tokens = list(zip(humorchar, humorpinyin, humorpos))\n",
    "humor_unique = set(humor_tokens)\n",
    "\n",
    "humor_tokens[:5]"
   ]
  },
  {
   "cell_type": "markdown",
   "metadata": {},
   "source": [
    "# Compiled Data"
   ]
  },
  {
   "cell_type": "code",
   "execution_count": 18,
   "metadata": {},
   "outputs": [
    {
     "data": {
      "text/plain": [
       "839006"
      ]
     },
     "execution_count": 18,
     "metadata": {},
     "output_type": "execute_result"
    },
    {
     "data": {
      "text/plain": [
       "53379"
      ]
     },
     "execution_count": 18,
     "metadata": {},
     "output_type": "execute_result"
    }
   ],
   "source": [
    "# Combine all lists of data to allow for analysis of entire corpus\n",
    "Compiled_Data = nr_tokens + ne_tokens + nrv_tokens + rel_tokens + sth_tokens + poplore_tokens + bio_tokens + misc_tokens + sci_tokens + gen_fic_tokens + myst_tokens + sci_fic_tokens + ama_fic_tokens + rom_fic_tokens + humor_tokens\n",
    "len(Compiled_Data)\n",
    "Compiled_Unique = set(Compiled_Data)\n",
    "Compiled_Unique = list(Compiled_Unique)\n",
    "len(Compiled_Unique)"
   ]
  },
  {
   "cell_type": "code",
   "execution_count": 19,
   "metadata": {},
   "outputs": [
    {
     "data": {
      "text/plain": [
       "[(('的', 'de5', 'u'), 50832), (('是', 'shi4', 'v'), 11427), (('了', 'le5', 'u'), 10379), (('在', 'zai4', 'p'), 9899), (('一', 'yi1', 'm'), 8365), (('和', 'he2', 'c'), 7200), (('他', 'ta1', 'r'), 5847), (('不', 'bu4', 'd'), 5594), (('我', 'wo3', 'r'), 5575), (('有', 'you3', 'v'), 4957), (('这', 'zhe4', 'r'), 4142), (('人', 'ren2', 'n'), 4025), (('也', 'ye3', 'd'), 3895), (('说', 'shuo1', 'v'), 3668), (('上', 'shang4', 'f'), 3558), (('着', 'zhao2', 'u'), 3364), (('就', 'jiu4', 'd'), 3236), (('地', 'di4', 'u'), 3209), (('中', 'zhong1', 'f'), 3175), (('对', 'dui4', 'p'), 3155)]"
      ]
     },
     "execution_count": 19,
     "metadata": {},
     "output_type": "execute_result"
    }
   ],
   "source": [
    "from collections import Counter\n",
    "\n",
    "freq = Counter(Compiled_Data)\n",
    "freq.most_common(20)"
   ]
  },
  {
   "cell_type": "code",
   "execution_count": 20,
   "metadata": {},
   "outputs": [],
   "source": [
    "Compiled_df = pd.DataFrame(Compiled_Unique)"
   ]
  },
  {
   "cell_type": "code",
   "execution_count": 21,
   "metadata": {},
   "outputs": [
    {
     "data": {
      "text/html": [
       "<div>\n",
       "<style>\n",
       "    .dataframe thead tr:only-child th {\n",
       "        text-align: right;\n",
       "    }\n",
       "\n",
       "    .dataframe thead th {\n",
       "        text-align: left;\n",
       "    }\n",
       "\n",
       "    .dataframe tbody tr th {\n",
       "        vertical-align: top;\n",
       "    }\n",
       "</style>\n",
       "<table border=\"1\" class=\"dataframe\">\n",
       "  <thead>\n",
       "    <tr style=\"text-align: right;\">\n",
       "      <th></th>\n",
       "      <th>Characters</th>\n",
       "      <th>Pinyin</th>\n",
       "      <th>POS</th>\n",
       "    </tr>\n",
       "  </thead>\n",
       "  <tbody>\n",
       "    <tr>\n",
       "      <th>0</th>\n",
       "      <td>报刊</td>\n",
       "      <td>bao4kan1</td>\n",
       "      <td>n</td>\n",
       "    </tr>\n",
       "    <tr>\n",
       "      <th>1</th>\n",
       "      <td>莲</td>\n",
       "      <td>lian2</td>\n",
       "      <td>ng</td>\n",
       "    </tr>\n",
       "    <tr>\n",
       "      <th>2</th>\n",
       "      <td>桂军</td>\n",
       "      <td>gui4jun1</td>\n",
       "      <td>nr</td>\n",
       "    </tr>\n",
       "    <tr>\n",
       "      <th>3</th>\n",
       "      <td>１９４８年</td>\n",
       "      <td>１９４８nian2</td>\n",
       "      <td>t</td>\n",
       "    </tr>\n",
       "    <tr>\n",
       "      <th>4</th>\n",
       "      <td>捣鼓</td>\n",
       "      <td>dao3gu3</td>\n",
       "      <td>v</td>\n",
       "    </tr>\n",
       "  </tbody>\n",
       "</table>\n",
       "</div>"
      ],
      "text/plain": [
       "  Characters     Pinyin POS\n",
       "0         报刊   bao4kan1   n\n",
       "1          莲      lian2  ng\n",
       "2         桂军   gui4jun1  nr\n",
       "3      １９４８年  １９４８nian2   t\n",
       "4         捣鼓    dao3gu3   v"
      ]
     },
     "execution_count": 21,
     "metadata": {},
     "output_type": "execute_result"
    },
    {
     "data": {
      "text/html": [
       "<div>\n",
       "<style>\n",
       "    .dataframe thead tr:only-child th {\n",
       "        text-align: right;\n",
       "    }\n",
       "\n",
       "    .dataframe thead th {\n",
       "        text-align: left;\n",
       "    }\n",
       "\n",
       "    .dataframe tbody tr th {\n",
       "        vertical-align: top;\n",
       "    }\n",
       "</style>\n",
       "<table border=\"1\" class=\"dataframe\">\n",
       "  <thead>\n",
       "    <tr style=\"text-align: right;\">\n",
       "      <th></th>\n",
       "      <th>Characters</th>\n",
       "      <th>Pinyin</th>\n",
       "      <th>POS</th>\n",
       "    </tr>\n",
       "  </thead>\n",
       "  <tbody>\n",
       "    <tr>\n",
       "      <th>53374</th>\n",
       "      <td>经手</td>\n",
       "      <td>jing1shou3</td>\n",
       "      <td>v</td>\n",
       "    </tr>\n",
       "    <tr>\n",
       "      <th>53375</th>\n",
       "      <td>哈欠</td>\n",
       "      <td>ha1qian4</td>\n",
       "      <td>n</td>\n",
       "    </tr>\n",
       "    <tr>\n",
       "      <th>53376</th>\n",
       "      <td>爱</td>\n",
       "      <td>ai4</td>\n",
       "      <td>j</td>\n",
       "    </tr>\n",
       "    <tr>\n",
       "      <th>53377</th>\n",
       "      <td>果茶</td>\n",
       "      <td>guo3cha2</td>\n",
       "      <td>n</td>\n",
       "    </tr>\n",
       "    <tr>\n",
       "      <th>53378</th>\n",
       "      <td>端正</td>\n",
       "      <td>duan1zheng4</td>\n",
       "      <td>v</td>\n",
       "    </tr>\n",
       "  </tbody>\n",
       "</table>\n",
       "</div>"
      ],
      "text/plain": [
       "      Characters       Pinyin POS\n",
       "53374         经手   jing1shou3   v\n",
       "53375         哈欠     ha1qian4   n\n",
       "53376          爱          ai4   j\n",
       "53377         果茶     guo3cha2   n\n",
       "53378         端正  duan1zheng4   v"
      ]
     },
     "execution_count": 21,
     "metadata": {},
     "output_type": "execute_result"
    }
   ],
   "source": [
    "Compiled_df.columns = ['Characters','Pinyin','POS']\n",
    "Compiled_df.head()\n",
    "Compiled_df.tail()"
   ]
  },
  {
   "cell_type": "code",
   "execution_count": 22,
   "metadata": {
    "collapsed": true
   },
   "outputs": [],
   "source": [
    "import matplotlib.pyplot as plt"
   ]
  },
  {
   "cell_type": "code",
   "execution_count": 26,
   "metadata": {},
   "outputs": [
    {
     "data": {
      "text/plain": [
       "<matplotlib.text.Text object at 0x000001D7B8369198>"
      ]
     },
     "execution_count": 26,
     "metadata": {},
     "output_type": "execute_result"
    },
    {
     "data": {
      "text/plain": [
       "<matplotlib.text.Text object at 0x000001D7B7176208>"
      ]
     },
     "execution_count": 26,
     "metadata": {},
     "output_type": "execute_result"
    },
    {
     "data": {
      "image/png": "[encoded data removed]",
      "text/plain": [
       "<matplotlib.figure.Figure object at 0x000001D7B83705C0>"
      ]
     },
     "metadata": {},
     "output_type": "display_data"
    }
   ],
   "source": [
    "POS = Compiled_df['POS'].value_counts().plot(kind='bar', title = 'Parts of Speech in Chinese', figsize = (30,30), fontsize = 24)\n",
    "POS.set_xlabel(\"Part of Speech\", fontsize = 24)\n",
    "POS.set_ylabel(\"Count\", fontsize = 24)\n",
    "plt.show()"
   ]
  },
  {
   "cell_type": "code",
   "execution_count": 27,
   "metadata": {},
   "outputs": [
    {
     "data": {
      "text/plain": [
       "46"
      ]
     },
     "execution_count": 27,
     "metadata": {},
     "output_type": "execute_result"
    },
    {
     "data": {
      "text/plain": [
       "[('厚厚的', 'hou4hou4de5', 'z'), ('的的', 'de5de5', 'n'), ('鼓鼓的', 'gu3gu3de5', 'z'), ('淡淡的', 'dan4dan4de5', 'z'), ('别的', 'bie2de5', 'r'), ('长长的', 'chang2chang2de5', 'z'), ('的', 'de5', 'b'), ('短短的', 'duan3duan3de5', 'z'), ('小小的', 'xiao3xiao3de5', 'z'), ('真的', 'zhen1de5', 'a'), ('是的', 'shi4de5', 'y'), ('的', 'de5', 'vn'), ('死死的', 'si3si3de5', 'z'), ('的', 'de5', 'j'), ('端的', 'duan1de5', 'd'), ('目的', 'mu4di4', 'n'), ('细细的', 'xi4xi4de5', 'z'), ('众矢之的', 'zhong4shi3zhi1de5', 'i'), ('的', 'de5', 'v'), ('薄薄的', 'bo2bo2de5', 'z'), ('高高的', 'gao1gao1de5', 'z'), ('婊子养的', 'biao3zi5yang3de5', 'l'), ('的', 'de5', 'nr'), ('真的', 'zhen1de5', 'd'), ('的', 'de5', 'd'), ('微微的', 'wei2wei2de5', 'z'), ('静静的', 'jing4jing4de5', 'z'), ('有的', 'you3de5', 'r'), ('浓浓的', 'nong2nong2de5', 'z'), ('似的', 'si4de5', 'u'), ('的', 'de5', 'n'), ('当家的', 'dang1jia1de5', 'n'), ('的的', 'de5de5', 'v'), ('狗日的', 'gou3ri4de5', 'l'), ('小的', 'xiao3de5', 'r'), ('的', 'de5', 'u'), ('的', 'de5', 'f'), ('他娘的', 'ta1niang2de5', 'l'), ('好样儿的', 'hao3yang4er2de5', 'n'), ('别的', 'bie2de5', 'a'), ('他妈的', 'ta1ma1de5', 'l'), ('老不死的', 'lao3bu4si3de5', 'l'), ('妈X的', 'ma1Xde5', 'l'), ('你妈的', 'ni3ma1de5', 'l'), ('圆圆的', 'yuan2yuan2de5', 'z'), ('亲爱的', 'qin1ai4de5', 'n')]"
      ]
     },
     "execution_count": 27,
     "metadata": {},
     "output_type": "execute_result"
    }
   ],
   "source": [
    "de_final = [(w,p,pos) for (w,p,pos) in Compiled_Unique if w.endswith('的')]\n",
    "len(de_final)\n",
    "de_final"
   ]
  },
  {
   "cell_type": "code",
   "execution_count": null,
   "metadata": {
    "collapsed": true
   },
   "outputs": [],
   "source": []
  }
 ],
 "metadata": {
  "kernelspec": {
   "display_name": "Python 3",
   "language": "python",
   "name": "python3"
  }
 },
 "nbformat": 4,
 "nbformat_minor": 2
}
